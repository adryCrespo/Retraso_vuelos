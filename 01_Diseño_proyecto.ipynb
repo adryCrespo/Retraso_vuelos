{
 "cells": [
  {
   "cell_type": "markdown",
   "id": "fc440199",
   "metadata": {
    "toc": true
   },
   "source": [
    "<h1>Table of Contents<span class=\"tocSkip\"></span></h1>\n",
    "<div class=\"toc\"><ul class=\"toc-item\"><li><span><a href=\"#DISEÑO-DEL-PROYECTO\" data-toc-modified-id=\"DISEÑO-DEL-PROYECTO-1\"><span class=\"toc-item-num\">1&nbsp;&nbsp;</span>DISEÑO DEL PROYECTO</a></span><ul class=\"toc-item\"><li><span><a href=\"#Variables\" data-toc-modified-id=\"Variables-1.1\"><span class=\"toc-item-num\">1.1&nbsp;&nbsp;</span>Variables</a></span></li></ul></li><li><span><a href=\"#Palancas\" data-toc-modified-id=\"Palancas-2\"><span class=\"toc-item-num\">2&nbsp;&nbsp;</span>Palancas</a></span><ul class=\"toc-item\"><li><span><a href=\"#Entidades\" data-toc-modified-id=\"Entidades-2.1\"><span class=\"toc-item-num\">2.1&nbsp;&nbsp;</span>Entidades</a></span></li><li><span><a href=\"#Metricas\" data-toc-modified-id=\"Metricas-2.2\"><span class=\"toc-item-num\">2.2&nbsp;&nbsp;</span>Metricas</a></span></li><li><span><a href=\"#Preguntas-semilla\" data-toc-modified-id=\"Preguntas-semilla-2.3\"><span class=\"toc-item-num\">2.3&nbsp;&nbsp;</span>Preguntas semilla</a></span></li></ul></li></ul></div>"
   ]
  },
  {
   "cell_type": "markdown",
   "id": "4f07ccf5",
   "metadata": {},
   "source": [
    "# DISEÑO DEL PROYECTO"
   ]
  },
  {
   "cell_type": "markdown",
   "id": "d0fe4edb",
   "metadata": {},
   "source": [
    "Se van a analizar el dataset **Flight Delay**. Este dataset contiene datos de vuelos de los años 2020 y 2019 en el mes de enero.\n",
    "El objetivo de este estudio es analizar los factores que influyen en el retraso de los vuelos.\n",
    "\n",
    "\n",
    "El dataset puede encontrarse Kaggle, en https://www.kaggle.com/datasets/divyansh22/flight-delay-prediction  \n",
    "Además, también se va a enriquecer el dataset con datos adicionales sobre los aeropuertos, https://ourairports.com/help/data-dictionary.html."
   ]
  },
  {
   "cell_type": "markdown",
   "id": "675d8838",
   "metadata": {},
   "source": [
    "## Variables\n",
    "\n",
    "- **DAY_OF_MONTH**:\n",
    "\n",
    "- **DAY_OF_WEEK**:\n",
    "\n",
    "- **OP_UNIQUE_CARRIER**:\n",
    "\tUnique Carrier Code. When the same code has been used by multiple carriers, a numeric suffix is used for earlier users,\n",
    "- **OP_CARRIER_AIRLINE_ID**:\n",
    "An identification number assigned by US DOT to identify a unique airline (carrier). A unique airline (carrier) is defined as one holding and reporting under the same DOT certificate regardless of its Code, Name, or holding company/corporation.\n",
    "\n",
    "- **OP_CARRIER**:\n",
    "Code assigned by IATA and commonly used to identify a carrier. As the same code may have been assigned to different\n",
    "\t\n",
    "- **TAIL_NUM**:\n",
    "Tail Number. Identificacion del avion. La letra inicial significa el pais de procedencia del avion.\n",
    "\n",
    "- **OP_CARRIER_FL_NUM**:\n",
    "Flight Number\n",
    "\n",
    "- **ORIGIN_AIRPORT_ID**:\n",
    "Origin Airport, Airport ID. An identification number assigned by US DOT to identify a unique airport.\n",
    "\n",
    "- **ORIGIN_AIRPORT_SEQ_ID**:\n",
    "Origin Airport, Airport Sequence ID. An identification number assigned by US DOT to identify a unique airport at a given point of time.\n",
    "\n",
    "- **ORIGIN**:\n",
    "Origin Airport\n",
    "\n",
    "\n",
    "- **DEST_AIRPORT_ID**:\n",
    "Destination Airport, Airport ID. An identification number assigned by US DOT to identify a unique airport.\n",
    "\n",
    "- **DEST_AIRPORT_SEQ_ID**:\n",
    "Destination Airport, Airport Sequence ID. An identification number assigned by US DOT to identify a unique airport at a given point of time.\n",
    "\n",
    "- **DEST**:\n",
    "Destination Airport\n",
    "\n",
    "- **DEP_TIME**:\n",
    "Actual Departure Time (local time: hhmm)\n",
    "\n",
    "- **DEP_DEL15**:\n",
    "Departure Delay Indicator, 15 Minutes or More (1=Yes, 0=No)\n",
    "\n",
    "- **DEP_TIME_BLK**:\n",
    "Departure Time Block, Hourly Intervals\n",
    "\n",
    "- **ARR_TIME**:\n",
    "Actual Arrival Time (local time: hhmm)\n",
    "\n",
    "- **ARR_DEL15**:\n",
    "Arrival Delay Indicator, 15 Minutes or More (1=Yes, 0=No)\n",
    "\n",
    "- **CANCELLED**:\n",
    "Cancelled Flight Indicator (1=Yes, 0=No)\n",
    "\n",
    "- **DIVERTED**:\n",
    "Diverted Flight Indicator (1=Yes, 0=No)\n",
    "\n",
    "- **DISTANCE**:\n",
    "Distance between airports (miles)"
   ]
  },
  {
   "cell_type": "markdown",
   "id": "82bfa828",
   "metadata": {},
   "source": [
    "# Palancas"
   ]
  },
  {
   "cell_type": "markdown",
   "id": "fed37743",
   "metadata": {},
   "source": [
    "## Entidades\n",
    "- Paises\n",
    "- Nivel aeropuerto (origen y destino)\n",
    "- Aviones\n",
    "- Airline\n",
    "\n"
   ]
  },
  {
   "cell_type": "markdown",
   "id": "442ac34d",
   "metadata": {},
   "source": [
    "## Metricas\n",
    "- Distancia\n",
    "- Horas de vuelo\n",
    "- Tendencias temporales\n"
   ]
  },
  {
   "cell_type": "markdown",
   "id": "797ca213",
   "metadata": {},
   "source": [
    "## Preguntas semilla\n",
    "\n",
    "- **Aviones**\n",
    "    - las distancias influye?\n",
    "    - las horas de vuelo influye\n",
    "    - horas en las que se concentran los retrasos\n",
    "    - las distancias influyen en lso retrasos\n",
    "    - puedo ver cuanto dura el vuelo?\n",
    "    - hay aviones que concentran estos    \n",
    "    - si un avion hace muchos km o muchos vuelos tiende mas a retrasarse\n",
    "- **Paises**\n",
    "    - que paises concentran los retrasos\n",
    "- **Aeropuertos** \n",
    "    - hay aeropuertos que concentran estos\n",
    "    - se acumulan en regiones espaciales\n",
    "    - \n",
    "- **Rutas** \n",
    "    - hay determinadas rutas a retrasarse?\n",
    "- **Airlines**\n",
    "    - hay airlines que concentran estos"
   ]
  },
  {
   "cell_type": "code",
   "execution_count": null,
   "id": "bdf34961",
   "metadata": {},
   "outputs": [],
   "source": []
  }
 ],
 "metadata": {
  "kernelspec": {
   "display_name": "Python 3 (ipykernel)",
   "language": "python",
   "name": "python3"
  },
  "language_info": {
   "codemirror_mode": {
    "name": "ipython",
    "version": 3
   },
   "file_extension": ".py",
   "mimetype": "text/x-python",
   "name": "python",
   "nbconvert_exporter": "python",
   "pygments_lexer": "ipython3",
   "version": "3.9.7"
  },
  "toc": {
   "base_numbering": 1,
   "nav_menu": {},
   "number_sections": true,
   "sideBar": true,
   "skip_h1_title": false,
   "title_cell": "Table of Contents",
   "title_sidebar": "Contents",
   "toc_cell": true,
   "toc_position": {},
   "toc_section_display": true,
   "toc_window_display": true
  },
  "varInspector": {
   "cols": {
    "lenName": 16,
    "lenType": 16,
    "lenVar": 40
   },
   "kernels_config": {
    "python": {
     "delete_cmd_postfix": "",
     "delete_cmd_prefix": "del ",
     "library": "var_list.py",
     "varRefreshCmd": "print(var_dic_list())"
    },
    "r": {
     "delete_cmd_postfix": ") ",
     "delete_cmd_prefix": "rm(",
     "library": "var_list.r",
     "varRefreshCmd": "cat(var_dic_list()) "
    }
   },
   "types_to_exclude": [
    "module",
    "function",
    "builtin_function_or_method",
    "instance",
    "_Feature"
   ],
   "window_display": false
  }
 },
 "nbformat": 4,
 "nbformat_minor": 5
}
