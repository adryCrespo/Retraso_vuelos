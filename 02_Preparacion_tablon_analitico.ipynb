{
 "cells": [
  {
   "cell_type": "markdown",
   "id": "e78b2e42",
   "metadata": {
    "toc": true
   },
   "source": [
    "<h1>Table of Contents<span class=\"tocSkip\"></span></h1>\n",
    "<div class=\"toc\"><ul class=\"toc-item\"><li><span><a href=\"#Aeropuertos\" data-toc-modified-id=\"Aeropuertos-1\"><span class=\"toc-item-num\">1&nbsp;&nbsp;</span>Aeropuertos</a></span></li><li><span><a href=\"#Año-2019\" data-toc-modified-id=\"Año-2019-2\"><span class=\"toc-item-num\">2&nbsp;&nbsp;</span>Año 2019</a></span><ul class=\"toc-item\"><li><ul class=\"toc-item\"><li><span><a href=\"#Duplicados\" data-toc-modified-id=\"Duplicados-2.0.1\"><span class=\"toc-item-num\">2.0.1&nbsp;&nbsp;</span>Duplicados</a></span></li><li><span><a href=\"#cardinalidad-año-2019\" data-toc-modified-id=\"cardinalidad-año-2019-2.0.2\"><span class=\"toc-item-num\">2.0.2&nbsp;&nbsp;</span>cardinalidad año 2019</a></span></li><li><span><a href=\"#nulos-2019\" data-toc-modified-id=\"nulos-2019-2.0.3\"><span class=\"toc-item-num\">2.0.3&nbsp;&nbsp;</span>nulos 2019</a></span></li><li><span><a href=\"#Variables-y-nombres\" data-toc-modified-id=\"Variables-y-nombres-2.0.4\"><span class=\"toc-item-num\">2.0.4&nbsp;&nbsp;</span>Variables y nombres</a></span></li></ul></li></ul></li><li><span><a href=\"#Año-2020\" data-toc-modified-id=\"Año-2020-3\"><span class=\"toc-item-num\">3&nbsp;&nbsp;</span>Año 2020</a></span><ul class=\"toc-item\"><li><span><a href=\"#nulos-2020\" data-toc-modified-id=\"nulos-2020-3.1\"><span class=\"toc-item-num\">3.1&nbsp;&nbsp;</span>nulos 2020</a></span></li></ul></li><li><span><a href=\"#Tablon-analitico\" data-toc-modified-id=\"Tablon-analitico-4\"><span class=\"toc-item-num\">4&nbsp;&nbsp;</span>Tablon analitico</a></span><ul class=\"toc-item\"><li><span><a href=\"#Datos-componentes-temporales\" data-toc-modified-id=\"Datos-componentes-temporales-4.1\"><span class=\"toc-item-num\">4.1&nbsp;&nbsp;</span>Datos componentes temporales</a></span></li><li><span><a href=\"#Datos-espaciales-aeropuerto\" data-toc-modified-id=\"Datos-espaciales-aeropuerto-4.2\"><span class=\"toc-item-num\">4.2&nbsp;&nbsp;</span>Datos espaciales aeropuerto</a></span></li><li><span><a href=\"#Datos-componentes-temporales\" data-toc-modified-id=\"Datos-componentes-temporales-4.3\"><span class=\"toc-item-num\">4.3&nbsp;&nbsp;</span>Datos componentes temporales</a></span></li><li><span><a href=\"#Guardar-dataset\" data-toc-modified-id=\"Guardar-dataset-4.4\"><span class=\"toc-item-num\">4.4&nbsp;&nbsp;</span>Guardar dataset</a></span></li></ul></li></ul></div>"
   ]
  },
  {
   "cell_type": "code",
   "execution_count": 1,
   "id": "62d99f40",
   "metadata": {},
   "outputs": [
    {
     "name": "stderr",
     "output_type": "stream",
     "text": [
      "C:\\Users\\acrespod\\Anaconda3\\lib\\site-packages\\scipy\\__init__.py:146: UserWarning: A NumPy version >=1.16.5 and <1.23.0 is required for this version of SciPy (detected version 1.23.1\n",
      "  warnings.warn(f\"A NumPy version >={np_minversion} and <{np_maxversion}\"\n"
     ]
    }
   ],
   "source": [
    "import numpy as np\n",
    "import pandas as pd\n",
    "import matplotlib.pyplot as plt\n",
    "%matplotlib inline\n",
    "import seaborn as sns\n",
    "\n",
    "from math import floor"
   ]
  },
  {
   "cell_type": "code",
   "execution_count": 2,
   "id": "23cef058",
   "metadata": {},
   "outputs": [],
   "source": [
    "df_2019 = pd.read_csv(\"../Datos/Jan_2019_ontime.csv\")\n",
    "df_2020 = pd.read_csv(\"../Datos/Jan_2020_ontime.csv\")\n",
    "airports = pd.read_csv(\"../Datos/airports.csv\")"
   ]
  },
  {
   "cell_type": "markdown",
   "id": "147e36ad",
   "metadata": {},
   "source": [
    "# Aeropuertos\n"
   ]
  },
  {
   "cell_type": "code",
   "execution_count": 3,
   "id": "c209e54d",
   "metadata": {},
   "outputs": [
    {
     "name": "stdout",
     "output_type": "stream",
     "text": [
      "<class 'pandas.core.frame.DataFrame'>\n",
      "RangeIndex: 74558 entries, 0 to 74557\n",
      "Data columns (total 18 columns):\n",
      " #   Column             Non-Null Count  Dtype  \n",
      "---  ------             --------------  -----  \n",
      " 0   id                 74558 non-null  int64  \n",
      " 1   ident              74558 non-null  object \n",
      " 2   type               74558 non-null  object \n",
      " 3   name               74558 non-null  object \n",
      " 4   latitude_deg       74558 non-null  float64\n",
      " 5   longitude_deg      74558 non-null  float64\n",
      " 6   elevation_ft       60342 non-null  float64\n",
      " 7   continent          38462 non-null  object \n",
      " 8   iso_country        74299 non-null  object \n",
      " 9   iso_region         74558 non-null  object \n",
      " 10  municipality       69569 non-null  object \n",
      " 11  scheduled_service  74558 non-null  object \n",
      " 12  gps_code           40961 non-null  object \n",
      " 13  iata_code          8862 non-null   object \n",
      " 14  local_code         32200 non-null  object \n",
      " 15  home_link          3558 non-null   object \n",
      " 16  wikipedia_link     10784 non-null  object \n",
      " 17  keywords           16502 non-null  object \n",
      "dtypes: float64(3), int64(1), object(14)\n",
      "memory usage: 10.2+ MB\n"
     ]
    }
   ],
   "source": [
    "airports.info()"
   ]
  },
  {
   "cell_type": "code",
   "execution_count": 4,
   "id": "53b5f7dd",
   "metadata": {},
   "outputs": [],
   "source": [
    "airports = airports[['id',\n",
    "     'type',\n",
    "     'name',\n",
    "     'latitude_deg',\n",
    "     'longitude_deg',\n",
    "     'elevation_ft',\n",
    "     'iso_country',\n",
    "     'iso_region']]\n",
    "airports = airports.drop_duplicates()"
   ]
  },
  {
   "cell_type": "code",
   "execution_count": 5,
   "id": "4e611e0e",
   "metadata": {},
   "outputs": [
    {
     "data": {
      "text/plain": [
       "id                   0\n",
       "type                 0\n",
       "name                 0\n",
       "latitude_deg         0\n",
       "longitude_deg        0\n",
       "elevation_ft     14216\n",
       "iso_country        259\n",
       "iso_region           0\n",
       "dtype: int64"
      ]
     },
     "execution_count": 5,
     "metadata": {},
     "output_type": "execute_result"
    }
   ],
   "source": [
    "airports.isna().sum()"
   ]
  },
  {
   "cell_type": "code",
   "execution_count": 6,
   "id": "b74f4769",
   "metadata": {},
   "outputs": [
    {
     "data": {
      "text/html": [
       "<div>\n",
       "<style scoped>\n",
       "    .dataframe tbody tr th:only-of-type {\n",
       "        vertical-align: middle;\n",
       "    }\n",
       "\n",
       "    .dataframe tbody tr th {\n",
       "        vertical-align: top;\n",
       "    }\n",
       "\n",
       "    .dataframe thead th {\n",
       "        text-align: right;\n",
       "    }\n",
       "</style>\n",
       "<table border=\"1\" class=\"dataframe\">\n",
       "  <thead>\n",
       "    <tr style=\"text-align: right;\">\n",
       "      <th></th>\n",
       "      <th>id</th>\n",
       "      <th>type</th>\n",
       "      <th>name</th>\n",
       "      <th>latitude_deg</th>\n",
       "      <th>longitude_deg</th>\n",
       "      <th>elevation_ft</th>\n",
       "      <th>iso_country</th>\n",
       "      <th>iso_region</th>\n",
       "    </tr>\n",
       "  </thead>\n",
       "  <tbody>\n",
       "    <tr>\n",
       "      <th>95</th>\n",
       "      <td>6605</td>\n",
       "      <td>seaplane_base</td>\n",
       "      <td>Annapolis Seaplane Base</td>\n",
       "      <td>38.999199</td>\n",
       "      <td>-76.456001</td>\n",
       "      <td>NaN</td>\n",
       "      <td>US</td>\n",
       "      <td>US-MD</td>\n",
       "    </tr>\n",
       "    <tr>\n",
       "      <th>416</th>\n",
       "      <td>6880</td>\n",
       "      <td>heliport</td>\n",
       "      <td>Panther Helicopters Inc Heliport</td>\n",
       "      <td>29.846060</td>\n",
       "      <td>-90.032160</td>\n",
       "      <td>NaN</td>\n",
       "      <td>US</td>\n",
       "      <td>US-LA</td>\n",
       "    </tr>\n",
       "    <tr>\n",
       "      <th>478</th>\n",
       "      <td>6935</td>\n",
       "      <td>closed</td>\n",
       "      <td>Air Oil Inc Nr 1 Heliport</td>\n",
       "      <td>29.937099</td>\n",
       "      <td>-90.183701</td>\n",
       "      <td>NaN</td>\n",
       "      <td>US</td>\n",
       "      <td>US-LA</td>\n",
       "    </tr>\n",
       "    <tr>\n",
       "      <th>698</th>\n",
       "      <td>7129</td>\n",
       "      <td>closed</td>\n",
       "      <td>Parking Lot Heliport</td>\n",
       "      <td>32.593834</td>\n",
       "      <td>-117.084872</td>\n",
       "      <td>NaN</td>\n",
       "      <td>US</td>\n",
       "      <td>US-CA</td>\n",
       "    </tr>\n",
       "    <tr>\n",
       "      <th>744</th>\n",
       "      <td>7168</td>\n",
       "      <td>seaplane_base</td>\n",
       "      <td>Fulton Seaplane Base</td>\n",
       "      <td>27.907499</td>\n",
       "      <td>-80.486397</td>\n",
       "      <td>NaN</td>\n",
       "      <td>US</td>\n",
       "      <td>US-FL</td>\n",
       "    </tr>\n",
       "    <tr>\n",
       "      <th>...</th>\n",
       "      <td>...</td>\n",
       "      <td>...</td>\n",
       "      <td>...</td>\n",
       "      <td>...</td>\n",
       "      <td>...</td>\n",
       "      <td>...</td>\n",
       "      <td>...</td>\n",
       "      <td>...</td>\n",
       "    </tr>\n",
       "    <tr>\n",
       "      <th>74533</th>\n",
       "      <td>31701</td>\n",
       "      <td>small_airport</td>\n",
       "      <td>Jilin Ertaizi Airport</td>\n",
       "      <td>44.002652</td>\n",
       "      <td>126.395244</td>\n",
       "      <td>NaN</td>\n",
       "      <td>CN</td>\n",
       "      <td>CN-22</td>\n",
       "    </tr>\n",
       "    <tr>\n",
       "      <th>74535</th>\n",
       "      <td>327450</td>\n",
       "      <td>medium_airport</td>\n",
       "      <td>Jiansanjiang Shidi Airport</td>\n",
       "      <td>47.108248</td>\n",
       "      <td>132.657920</td>\n",
       "      <td>NaN</td>\n",
       "      <td>CN</td>\n",
       "      <td>CN-23</td>\n",
       "    </tr>\n",
       "    <tr>\n",
       "      <th>74537</th>\n",
       "      <td>31706</td>\n",
       "      <td>small_airport</td>\n",
       "      <td>Jinzhou Xiaolingzi Air Base</td>\n",
       "      <td>41.101398</td>\n",
       "      <td>121.061996</td>\n",
       "      <td>NaN</td>\n",
       "      <td>CN</td>\n",
       "      <td>CN-21</td>\n",
       "    </tr>\n",
       "    <tr>\n",
       "      <th>74551</th>\n",
       "      <td>317861</td>\n",
       "      <td>medium_airport</td>\n",
       "      <td>Yingkou Lanqi Airport</td>\n",
       "      <td>40.542524</td>\n",
       "      <td>122.358600</td>\n",
       "      <td>NaN</td>\n",
       "      <td>CN</td>\n",
       "      <td>CN-21</td>\n",
       "    </tr>\n",
       "    <tr>\n",
       "      <th>74552</th>\n",
       "      <td>32753</td>\n",
       "      <td>medium_airport</td>\n",
       "      <td>Shenyang Dongta Airport</td>\n",
       "      <td>41.784401</td>\n",
       "      <td>123.496002</td>\n",
       "      <td>NaN</td>\n",
       "      <td>CN</td>\n",
       "      <td>CN-21</td>\n",
       "    </tr>\n",
       "  </tbody>\n",
       "</table>\n",
       "<p>14216 rows × 8 columns</p>\n",
       "</div>"
      ],
      "text/plain": [
       "           id            type                              name  latitude_deg  \\\n",
       "95       6605   seaplane_base           Annapolis Seaplane Base     38.999199   \n",
       "416      6880        heliport  Panther Helicopters Inc Heliport     29.846060   \n",
       "478      6935          closed         Air Oil Inc Nr 1 Heliport     29.937099   \n",
       "698      7129          closed              Parking Lot Heliport     32.593834   \n",
       "744      7168   seaplane_base              Fulton Seaplane Base     27.907499   \n",
       "...       ...             ...                               ...           ...   \n",
       "74533   31701   small_airport             Jilin Ertaizi Airport     44.002652   \n",
       "74535  327450  medium_airport        Jiansanjiang Shidi Airport     47.108248   \n",
       "74537   31706   small_airport       Jinzhou Xiaolingzi Air Base     41.101398   \n",
       "74551  317861  medium_airport             Yingkou Lanqi Airport     40.542524   \n",
       "74552   32753  medium_airport           Shenyang Dongta Airport     41.784401   \n",
       "\n",
       "       longitude_deg  elevation_ft iso_country iso_region  \n",
       "95        -76.456001           NaN          US      US-MD  \n",
       "416       -90.032160           NaN          US      US-LA  \n",
       "478       -90.183701           NaN          US      US-LA  \n",
       "698      -117.084872           NaN          US      US-CA  \n",
       "744       -80.486397           NaN          US      US-FL  \n",
       "...              ...           ...         ...        ...  \n",
       "74533     126.395244           NaN          CN      CN-22  \n",
       "74535     132.657920           NaN          CN      CN-23  \n",
       "74537     121.061996           NaN          CN      CN-21  \n",
       "74551     122.358600           NaN          CN      CN-21  \n",
       "74552     123.496002           NaN          CN      CN-21  \n",
       "\n",
       "[14216 rows x 8 columns]"
      ]
     },
     "execution_count": 6,
     "metadata": {},
     "output_type": "execute_result"
    }
   ],
   "source": [
    "airports[airports['elevation_ft'].isna()]"
   ]
  },
  {
   "cell_type": "markdown",
   "id": "bfd3f5da",
   "metadata": {},
   "source": [
    "Seria muy costoso imputar la elevacion en 14.000 aeropuertos. Asi vamos a esperar y solo imputar los que necesitamos"
   ]
  },
  {
   "cell_type": "markdown",
   "id": "a134562a",
   "metadata": {},
   "source": [
    "# Año 2019"
   ]
  },
  {
   "cell_type": "code",
   "execution_count": 7,
   "id": "35bacb52",
   "metadata": {},
   "outputs": [
    {
     "name": "stdout",
     "output_type": "stream",
     "text": [
      "<class 'pandas.core.frame.DataFrame'>\n",
      "RangeIndex: 583985 entries, 0 to 583984\n",
      "Data columns (total 22 columns):\n",
      " #   Column                 Non-Null Count   Dtype  \n",
      "---  ------                 --------------   -----  \n",
      " 0   DAY_OF_MONTH           583985 non-null  int64  \n",
      " 1   DAY_OF_WEEK            583985 non-null  int64  \n",
      " 2   OP_UNIQUE_CARRIER      583985 non-null  object \n",
      " 3   OP_CARRIER_AIRLINE_ID  583985 non-null  int64  \n",
      " 4   OP_CARRIER             583985 non-null  object \n",
      " 5   TAIL_NUM               581442 non-null  object \n",
      " 6   OP_CARRIER_FL_NUM      583985 non-null  int64  \n",
      " 7   ORIGIN_AIRPORT_ID      583985 non-null  int64  \n",
      " 8   ORIGIN_AIRPORT_SEQ_ID  583985 non-null  int64  \n",
      " 9   ORIGIN                 583985 non-null  object \n",
      " 10  DEST_AIRPORT_ID        583985 non-null  int64  \n",
      " 11  DEST_AIRPORT_SEQ_ID    583985 non-null  int64  \n",
      " 12  DEST                   583985 non-null  object \n",
      " 13  DEP_TIME               567633 non-null  float64\n",
      " 14  DEP_DEL15              567630 non-null  float64\n",
      " 15  DEP_TIME_BLK           583985 non-null  object \n",
      " 16  ARR_TIME               566924 non-null  float64\n",
      " 17  ARR_DEL15              565963 non-null  float64\n",
      " 18  CANCELLED              583985 non-null  float64\n",
      " 19  DIVERTED               583985 non-null  float64\n",
      " 20  DISTANCE               583985 non-null  float64\n",
      " 21  Unnamed: 21            0 non-null       float64\n",
      "dtypes: float64(8), int64(8), object(6)\n",
      "memory usage: 98.0+ MB\n"
     ]
    }
   ],
   "source": [
    "df_2019.info()"
   ]
  },
  {
   "cell_type": "code",
   "execution_count": 8,
   "id": "f51715b2",
   "metadata": {},
   "outputs": [
    {
     "data": {
      "text/html": [
       "<div>\n",
       "<style scoped>\n",
       "    .dataframe tbody tr th:only-of-type {\n",
       "        vertical-align: middle;\n",
       "    }\n",
       "\n",
       "    .dataframe tbody tr th {\n",
       "        vertical-align: top;\n",
       "    }\n",
       "\n",
       "    .dataframe thead th {\n",
       "        text-align: right;\n",
       "    }\n",
       "</style>\n",
       "<table border=\"1\" class=\"dataframe\">\n",
       "  <thead>\n",
       "    <tr style=\"text-align: right;\">\n",
       "      <th></th>\n",
       "      <th>DAY_OF_MONTH</th>\n",
       "      <th>DAY_OF_WEEK</th>\n",
       "      <th>OP_UNIQUE_CARRIER</th>\n",
       "      <th>OP_CARRIER_AIRLINE_ID</th>\n",
       "      <th>OP_CARRIER</th>\n",
       "      <th>TAIL_NUM</th>\n",
       "      <th>OP_CARRIER_FL_NUM</th>\n",
       "      <th>ORIGIN_AIRPORT_ID</th>\n",
       "      <th>ORIGIN_AIRPORT_SEQ_ID</th>\n",
       "      <th>ORIGIN</th>\n",
       "      <th>...</th>\n",
       "      <th>DEST</th>\n",
       "      <th>DEP_TIME</th>\n",
       "      <th>DEP_DEL15</th>\n",
       "      <th>DEP_TIME_BLK</th>\n",
       "      <th>ARR_TIME</th>\n",
       "      <th>ARR_DEL15</th>\n",
       "      <th>CANCELLED</th>\n",
       "      <th>DIVERTED</th>\n",
       "      <th>DISTANCE</th>\n",
       "      <th>Unnamed: 21</th>\n",
       "    </tr>\n",
       "  </thead>\n",
       "  <tbody>\n",
       "    <tr>\n",
       "      <th>0</th>\n",
       "      <td>1</td>\n",
       "      <td>2</td>\n",
       "      <td>9E</td>\n",
       "      <td>20363</td>\n",
       "      <td>9E</td>\n",
       "      <td>N8688C</td>\n",
       "      <td>3280</td>\n",
       "      <td>11953</td>\n",
       "      <td>1195302</td>\n",
       "      <td>GNV</td>\n",
       "      <td>...</td>\n",
       "      <td>ATL</td>\n",
       "      <td>601.0</td>\n",
       "      <td>0.0</td>\n",
       "      <td>0600-0659</td>\n",
       "      <td>722.0</td>\n",
       "      <td>0.0</td>\n",
       "      <td>0.0</td>\n",
       "      <td>0.0</td>\n",
       "      <td>300.0</td>\n",
       "      <td>NaN</td>\n",
       "    </tr>\n",
       "    <tr>\n",
       "      <th>1</th>\n",
       "      <td>1</td>\n",
       "      <td>2</td>\n",
       "      <td>9E</td>\n",
       "      <td>20363</td>\n",
       "      <td>9E</td>\n",
       "      <td>N348PQ</td>\n",
       "      <td>3281</td>\n",
       "      <td>13487</td>\n",
       "      <td>1348702</td>\n",
       "      <td>MSP</td>\n",
       "      <td>...</td>\n",
       "      <td>CVG</td>\n",
       "      <td>1359.0</td>\n",
       "      <td>0.0</td>\n",
       "      <td>1400-1459</td>\n",
       "      <td>1633.0</td>\n",
       "      <td>0.0</td>\n",
       "      <td>0.0</td>\n",
       "      <td>0.0</td>\n",
       "      <td>596.0</td>\n",
       "      <td>NaN</td>\n",
       "    </tr>\n",
       "    <tr>\n",
       "      <th>2</th>\n",
       "      <td>1</td>\n",
       "      <td>2</td>\n",
       "      <td>9E</td>\n",
       "      <td>20363</td>\n",
       "      <td>9E</td>\n",
       "      <td>N8896A</td>\n",
       "      <td>3282</td>\n",
       "      <td>11433</td>\n",
       "      <td>1143302</td>\n",
       "      <td>DTW</td>\n",
       "      <td>...</td>\n",
       "      <td>CVG</td>\n",
       "      <td>1215.0</td>\n",
       "      <td>0.0</td>\n",
       "      <td>1200-1259</td>\n",
       "      <td>1329.0</td>\n",
       "      <td>0.0</td>\n",
       "      <td>0.0</td>\n",
       "      <td>0.0</td>\n",
       "      <td>229.0</td>\n",
       "      <td>NaN</td>\n",
       "    </tr>\n",
       "    <tr>\n",
       "      <th>3</th>\n",
       "      <td>1</td>\n",
       "      <td>2</td>\n",
       "      <td>9E</td>\n",
       "      <td>20363</td>\n",
       "      <td>9E</td>\n",
       "      <td>N8886A</td>\n",
       "      <td>3283</td>\n",
       "      <td>15249</td>\n",
       "      <td>1524906</td>\n",
       "      <td>TLH</td>\n",
       "      <td>...</td>\n",
       "      <td>ATL</td>\n",
       "      <td>1521.0</td>\n",
       "      <td>0.0</td>\n",
       "      <td>1500-1559</td>\n",
       "      <td>1625.0</td>\n",
       "      <td>0.0</td>\n",
       "      <td>0.0</td>\n",
       "      <td>0.0</td>\n",
       "      <td>223.0</td>\n",
       "      <td>NaN</td>\n",
       "    </tr>\n",
       "    <tr>\n",
       "      <th>4</th>\n",
       "      <td>1</td>\n",
       "      <td>2</td>\n",
       "      <td>9E</td>\n",
       "      <td>20363</td>\n",
       "      <td>9E</td>\n",
       "      <td>N8974C</td>\n",
       "      <td>3284</td>\n",
       "      <td>10397</td>\n",
       "      <td>1039707</td>\n",
       "      <td>ATL</td>\n",
       "      <td>...</td>\n",
       "      <td>FSM</td>\n",
       "      <td>1847.0</td>\n",
       "      <td>0.0</td>\n",
       "      <td>1900-1959</td>\n",
       "      <td>1940.0</td>\n",
       "      <td>0.0</td>\n",
       "      <td>0.0</td>\n",
       "      <td>0.0</td>\n",
       "      <td>579.0</td>\n",
       "      <td>NaN</td>\n",
       "    </tr>\n",
       "  </tbody>\n",
       "</table>\n",
       "<p>5 rows × 22 columns</p>\n",
       "</div>"
      ],
      "text/plain": [
       "   DAY_OF_MONTH  DAY_OF_WEEK OP_UNIQUE_CARRIER  OP_CARRIER_AIRLINE_ID  \\\n",
       "0             1            2                9E                  20363   \n",
       "1             1            2                9E                  20363   \n",
       "2             1            2                9E                  20363   \n",
       "3             1            2                9E                  20363   \n",
       "4             1            2                9E                  20363   \n",
       "\n",
       "  OP_CARRIER TAIL_NUM  OP_CARRIER_FL_NUM  ORIGIN_AIRPORT_ID  \\\n",
       "0         9E   N8688C               3280              11953   \n",
       "1         9E   N348PQ               3281              13487   \n",
       "2         9E   N8896A               3282              11433   \n",
       "3         9E   N8886A               3283              15249   \n",
       "4         9E   N8974C               3284              10397   \n",
       "\n",
       "   ORIGIN_AIRPORT_SEQ_ID ORIGIN  ...  DEST  DEP_TIME DEP_DEL15  DEP_TIME_BLK  \\\n",
       "0                1195302    GNV  ...   ATL     601.0       0.0     0600-0659   \n",
       "1                1348702    MSP  ...   CVG    1359.0       0.0     1400-1459   \n",
       "2                1143302    DTW  ...   CVG    1215.0       0.0     1200-1259   \n",
       "3                1524906    TLH  ...   ATL    1521.0       0.0     1500-1559   \n",
       "4                1039707    ATL  ...   FSM    1847.0       0.0     1900-1959   \n",
       "\n",
       "   ARR_TIME ARR_DEL15  CANCELLED  DIVERTED  DISTANCE  Unnamed: 21  \n",
       "0     722.0       0.0        0.0       0.0     300.0          NaN  \n",
       "1    1633.0       0.0        0.0       0.0     596.0          NaN  \n",
       "2    1329.0       0.0        0.0       0.0     229.0          NaN  \n",
       "3    1625.0       0.0        0.0       0.0     223.0          NaN  \n",
       "4    1940.0       0.0        0.0       0.0     579.0          NaN  \n",
       "\n",
       "[5 rows x 22 columns]"
      ]
     },
     "execution_count": 8,
     "metadata": {},
     "output_type": "execute_result"
    }
   ],
   "source": [
    "df_2019.head()"
   ]
  },
  {
   "cell_type": "markdown",
   "id": "46dfdc59",
   "metadata": {},
   "source": [
    "**dep_time** deberia estar en hora\n",
    "**ARR_TIME** eberia estar en hora\n",
    "\n",
    "echar un ojo **dep_Time_BLK** y **DEP_DEL15**: que considera retraso"
   ]
  },
  {
   "cell_type": "code",
   "execution_count": null,
   "id": "eef41103",
   "metadata": {},
   "outputs": [],
   "source": []
  },
  {
   "cell_type": "markdown",
   "id": "62b838fa",
   "metadata": {
    "heading_collapsed": true
   },
   "source": [
    "### Duplicados"
   ]
  },
  {
   "cell_type": "code",
   "execution_count": 9,
   "id": "ea1307fc",
   "metadata": {
    "hidden": true
   },
   "outputs": [
    {
     "data": {
      "text/plain": [
       "(583985, 22)"
      ]
     },
     "execution_count": 9,
     "metadata": {},
     "output_type": "execute_result"
    }
   ],
   "source": [
    "df_2019.shape"
   ]
  },
  {
   "cell_type": "code",
   "execution_count": 10,
   "id": "50771809",
   "metadata": {
    "hidden": true
   },
   "outputs": [
    {
     "data": {
      "text/plain": [
       "(583985, 22)"
      ]
     },
     "execution_count": 10,
     "metadata": {},
     "output_type": "execute_result"
    }
   ],
   "source": [
    "# no hay duplicados\n",
    "df_2019.drop_duplicates().shape"
   ]
  },
  {
   "cell_type": "markdown",
   "id": "82e1191f",
   "metadata": {},
   "source": [
    "### cardinalidad año 2019"
   ]
  },
  {
   "cell_type": "code",
   "execution_count": 11,
   "id": "36983c0f",
   "metadata": {},
   "outputs": [],
   "source": [
    "## CARRIER"
   ]
  },
  {
   "cell_type": "code",
   "execution_count": 12,
   "id": "5c31e724",
   "metadata": {},
   "outputs": [
    {
     "data": {
      "text/html": [
       "<div>\n",
       "<style scoped>\n",
       "    .dataframe tbody tr th:only-of-type {\n",
       "        vertical-align: middle;\n",
       "    }\n",
       "\n",
       "    .dataframe tbody tr th {\n",
       "        vertical-align: top;\n",
       "    }\n",
       "\n",
       "    .dataframe thead th {\n",
       "        text-align: right;\n",
       "    }\n",
       "</style>\n",
       "<table border=\"1\" class=\"dataframe\">\n",
       "  <thead>\n",
       "    <tr style=\"text-align: right;\">\n",
       "      <th></th>\n",
       "      <th>OP_UNIQUE_CARRIER</th>\n",
       "      <th>OP_CARRIER_AIRLINE_ID</th>\n",
       "    </tr>\n",
       "  </thead>\n",
       "  <tbody>\n",
       "  </tbody>\n",
       "</table>\n",
       "</div>"
      ],
      "text/plain": [
       "Empty DataFrame\n",
       "Columns: [OP_UNIQUE_CARRIER, OP_CARRIER_AIRLINE_ID]\n",
       "Index: []"
      ]
     },
     "execution_count": 12,
     "metadata": {},
     "output_type": "execute_result"
    }
   ],
   "source": [
    "# relacion 1 a 1\n",
    "\n",
    "aux = ['OP_UNIQUE_CARRIER','OP_CARRIER_AIRLINE_ID']\n",
    "df_2019[aux].drop_duplicates().groupby('OP_UNIQUE_CARRIER').filter(lambda x: len(x)>1)"
   ]
  },
  {
   "cell_type": "code",
   "execution_count": 13,
   "id": "0d0e3d81",
   "metadata": {},
   "outputs": [
    {
     "data": {
      "text/html": [
       "<div>\n",
       "<style scoped>\n",
       "    .dataframe tbody tr th:only-of-type {\n",
       "        vertical-align: middle;\n",
       "    }\n",
       "\n",
       "    .dataframe tbody tr th {\n",
       "        vertical-align: top;\n",
       "    }\n",
       "\n",
       "    .dataframe thead th {\n",
       "        text-align: right;\n",
       "    }\n",
       "</style>\n",
       "<table border=\"1\" class=\"dataframe\">\n",
       "  <thead>\n",
       "    <tr style=\"text-align: right;\">\n",
       "      <th></th>\n",
       "      <th>OP_UNIQUE_CARRIER</th>\n",
       "      <th>OP_CARRIER</th>\n",
       "    </tr>\n",
       "  </thead>\n",
       "  <tbody>\n",
       "  </tbody>\n",
       "</table>\n",
       "</div>"
      ],
      "text/plain": [
       "Empty DataFrame\n",
       "Columns: [OP_UNIQUE_CARRIER, OP_CARRIER]\n",
       "Index: []"
      ]
     },
     "execution_count": 13,
     "metadata": {},
     "output_type": "execute_result"
    }
   ],
   "source": [
    "# relacion 1 a 1\n",
    "\n",
    "aux = ['OP_UNIQUE_CARRIER','OP_CARRIER']\n",
    "df_2019[aux].drop_duplicates().groupby('OP_UNIQUE_CARRIER').filter(lambda x: len(x)>1)"
   ]
  },
  {
   "cell_type": "markdown",
   "id": "3e5a2bc7",
   "metadata": {},
   "source": [
    "ORIGIN\n",
    "  \n",
    "'ORIGIN_AIRPORT_ID'  \n",
    "'ORIGIN_AIRPORT_SEQ_ID'  \n",
    "'ORIGIN'\n",
    "Tienen relacion 1 a 1"
   ]
  },
  {
   "cell_type": "code",
   "execution_count": 14,
   "id": "c0a7c92a",
   "metadata": {},
   "outputs": [
    {
     "data": {
      "text/html": [
       "<div>\n",
       "<style scoped>\n",
       "    .dataframe tbody tr th:only-of-type {\n",
       "        vertical-align: middle;\n",
       "    }\n",
       "\n",
       "    .dataframe tbody tr th {\n",
       "        vertical-align: top;\n",
       "    }\n",
       "\n",
       "    .dataframe thead th {\n",
       "        text-align: right;\n",
       "    }\n",
       "</style>\n",
       "<table border=\"1\" class=\"dataframe\">\n",
       "  <thead>\n",
       "    <tr style=\"text-align: right;\">\n",
       "      <th></th>\n",
       "      <th>ORIGIN_AIRPORT_ID</th>\n",
       "      <th>ORIGIN_AIRPORT_SEQ_ID</th>\n",
       "    </tr>\n",
       "  </thead>\n",
       "  <tbody>\n",
       "  </tbody>\n",
       "</table>\n",
       "</div>"
      ],
      "text/plain": [
       "Empty DataFrame\n",
       "Columns: [ORIGIN_AIRPORT_ID, ORIGIN_AIRPORT_SEQ_ID]\n",
       "Index: []"
      ]
     },
     "execution_count": 14,
     "metadata": {},
     "output_type": "execute_result"
    }
   ],
   "source": [
    "aux = ['ORIGIN_AIRPORT_ID', 'ORIGIN_AIRPORT_SEQ_ID']\n",
    "df_2019[aux].drop_duplicates().groupby('ORIGIN_AIRPORT_ID').filter(lambda x: len(x)>1)"
   ]
  },
  {
   "cell_type": "code",
   "execution_count": 15,
   "id": "61d19e9f",
   "metadata": {},
   "outputs": [
    {
     "data": {
      "text/html": [
       "<div>\n",
       "<style scoped>\n",
       "    .dataframe tbody tr th:only-of-type {\n",
       "        vertical-align: middle;\n",
       "    }\n",
       "\n",
       "    .dataframe tbody tr th {\n",
       "        vertical-align: top;\n",
       "    }\n",
       "\n",
       "    .dataframe thead th {\n",
       "        text-align: right;\n",
       "    }\n",
       "</style>\n",
       "<table border=\"1\" class=\"dataframe\">\n",
       "  <thead>\n",
       "    <tr style=\"text-align: right;\">\n",
       "      <th></th>\n",
       "      <th>ORIGIN_AIRPORT_SEQ_ID</th>\n",
       "      <th>ORIGIN</th>\n",
       "    </tr>\n",
       "  </thead>\n",
       "  <tbody>\n",
       "  </tbody>\n",
       "</table>\n",
       "</div>"
      ],
      "text/plain": [
       "Empty DataFrame\n",
       "Columns: [ORIGIN_AIRPORT_SEQ_ID, ORIGIN]\n",
       "Index: []"
      ]
     },
     "execution_count": 15,
     "metadata": {},
     "output_type": "execute_result"
    }
   ],
   "source": [
    "df_2019[['ORIGIN_AIRPORT_SEQ_ID','ORIGIN']].drop_duplicates().groupby('ORIGIN').filter(lambda x: len(x)>1)"
   ]
  },
  {
   "cell_type": "markdown",
   "id": "cbbe7e12",
   "metadata": {},
   "source": [
    "\n",
    "DEST_AIRPORT_ID        583985 non-null  int64  \n",
    " 11  DEST_AIRPORT_SEQ_ID    583985 non-null  int64  \n",
    " 12  DEST\n",
    " \n",
    " Tienen relacion 1 a 1"
   ]
  },
  {
   "cell_type": "code",
   "execution_count": 16,
   "id": "fd882e62",
   "metadata": {},
   "outputs": [
    {
     "data": {
      "text/html": [
       "<div>\n",
       "<style scoped>\n",
       "    .dataframe tbody tr th:only-of-type {\n",
       "        vertical-align: middle;\n",
       "    }\n",
       "\n",
       "    .dataframe tbody tr th {\n",
       "        vertical-align: top;\n",
       "    }\n",
       "\n",
       "    .dataframe thead th {\n",
       "        text-align: right;\n",
       "    }\n",
       "</style>\n",
       "<table border=\"1\" class=\"dataframe\">\n",
       "  <thead>\n",
       "    <tr style=\"text-align: right;\">\n",
       "      <th></th>\n",
       "      <th>DEST_AIRPORT_ID</th>\n",
       "      <th>DEST_AIRPORT_SEQ_ID</th>\n",
       "    </tr>\n",
       "  </thead>\n",
       "  <tbody>\n",
       "  </tbody>\n",
       "</table>\n",
       "</div>"
      ],
      "text/plain": [
       "Empty DataFrame\n",
       "Columns: [DEST_AIRPORT_ID, DEST_AIRPORT_SEQ_ID]\n",
       "Index: []"
      ]
     },
     "execution_count": 16,
     "metadata": {},
     "output_type": "execute_result"
    }
   ],
   "source": [
    "df_2019[['DEST_AIRPORT_ID','DEST_AIRPORT_SEQ_ID']].drop_duplicates().groupby('DEST_AIRPORT_ID').filter(lambda x: len(x)>1)"
   ]
  },
  {
   "cell_type": "code",
   "execution_count": 17,
   "id": "4ab72917",
   "metadata": {},
   "outputs": [
    {
     "data": {
      "text/html": [
       "<div>\n",
       "<style scoped>\n",
       "    .dataframe tbody tr th:only-of-type {\n",
       "        vertical-align: middle;\n",
       "    }\n",
       "\n",
       "    .dataframe tbody tr th {\n",
       "        vertical-align: top;\n",
       "    }\n",
       "\n",
       "    .dataframe thead th {\n",
       "        text-align: right;\n",
       "    }\n",
       "</style>\n",
       "<table border=\"1\" class=\"dataframe\">\n",
       "  <thead>\n",
       "    <tr style=\"text-align: right;\">\n",
       "      <th></th>\n",
       "      <th>DEST_AIRPORT_ID</th>\n",
       "      <th>DEST</th>\n",
       "    </tr>\n",
       "  </thead>\n",
       "  <tbody>\n",
       "  </tbody>\n",
       "</table>\n",
       "</div>"
      ],
      "text/plain": [
       "Empty DataFrame\n",
       "Columns: [DEST_AIRPORT_ID, DEST]\n",
       "Index: []"
      ]
     },
     "execution_count": 17,
     "metadata": {},
     "output_type": "execute_result"
    }
   ],
   "source": [
    "df_2019[['DEST_AIRPORT_ID','DEST']].drop_duplicates().groupby('DEST_AIRPORT_ID').filter(lambda x: len(x)>1)"
   ]
  },
  {
   "cell_type": "code",
   "execution_count": 18,
   "id": "fb0b30d7",
   "metadata": {},
   "outputs": [],
   "source": [
    "# eliminamos variable redundantes\n",
    "a_eliminar = ['OP_UNIQUE_CARRIER','OP_CARRIER_AIRLINE_ID','OP_UNIQUE_CARRIER','ORIGIN','ORIGIN_AIRPORT_SEQ_ID',\n",
    "             'DEST','DEST_AIRPORT_SEQ_ID','Unnamed: 21']\n",
    "df_2019.drop(columns=a_eliminar, inplace=True)"
   ]
  },
  {
   "cell_type": "code",
   "execution_count": 19,
   "id": "fa7e846d",
   "metadata": {
    "scrolled": true
   },
   "outputs": [
    {
     "name": "stdout",
     "output_type": "stream",
     "text": [
      "<class 'pandas.core.frame.DataFrame'>\n",
      "RangeIndex: 583985 entries, 0 to 583984\n",
      "Data columns (total 15 columns):\n",
      " #   Column             Non-Null Count   Dtype  \n",
      "---  ------             --------------   -----  \n",
      " 0   DAY_OF_MONTH       583985 non-null  int64  \n",
      " 1   DAY_OF_WEEK        583985 non-null  int64  \n",
      " 2   OP_CARRIER         583985 non-null  object \n",
      " 3   TAIL_NUM           581442 non-null  object \n",
      " 4   OP_CARRIER_FL_NUM  583985 non-null  int64  \n",
      " 5   ORIGIN_AIRPORT_ID  583985 non-null  int64  \n",
      " 6   DEST_AIRPORT_ID    583985 non-null  int64  \n",
      " 7   DEP_TIME           567633 non-null  float64\n",
      " 8   DEP_DEL15          567630 non-null  float64\n",
      " 9   DEP_TIME_BLK       583985 non-null  object \n",
      " 10  ARR_TIME           566924 non-null  float64\n",
      " 11  ARR_DEL15          565963 non-null  float64\n",
      " 12  CANCELLED          583985 non-null  float64\n",
      " 13  DIVERTED           583985 non-null  float64\n",
      " 14  DISTANCE           583985 non-null  float64\n",
      "dtypes: float64(7), int64(5), object(3)\n",
      "memory usage: 66.8+ MB\n"
     ]
    }
   ],
   "source": [
    "df_2019.info()"
   ]
  },
  {
   "cell_type": "markdown",
   "id": "4f2ca741",
   "metadata": {},
   "source": [
    "### nulos 2019"
   ]
  },
  {
   "cell_type": "code",
   "execution_count": 20,
   "id": "b6bf0485",
   "metadata": {},
   "outputs": [
    {
     "data": {
      "text/plain": [
       "(583985, 15)"
      ]
     },
     "execution_count": 20,
     "metadata": {},
     "output_type": "execute_result"
    }
   ],
   "source": [
    "df_2019.shape"
   ]
  },
  {
   "cell_type": "code",
   "execution_count": 21,
   "id": "04f118bb",
   "metadata": {},
   "outputs": [
    {
     "data": {
      "image/png": "[encoded data removed]",
      "text/plain": [
       "<Figure size 432x288 with 1 Axes>"
      ]
     },
     "metadata": {
      "needs_background": "light"
     },
     "output_type": "display_data"
    }
   ],
   "source": [
    "plt.hist(df_2019['DEP_TIME'])\n",
    "plt.show()"
   ]
  },
  {
   "cell_type": "code",
   "execution_count": 22,
   "id": "c9a924fd",
   "metadata": {},
   "outputs": [
    {
     "data": {
      "image/png": "[encoded data removed]",
      "text/plain": [
       "<Figure size 432x288 with 1 Axes>"
      ]
     },
     "metadata": {
      "needs_background": "light"
     },
     "output_type": "display_data"
    }
   ],
   "source": [
    "plt.hist(df_2019['ARR_TIME'])\n",
    "plt.show()"
   ]
  },
  {
   "cell_type": "code",
   "execution_count": 23,
   "id": "4ca65eb1",
   "metadata": {},
   "outputs": [
    {
     "data": {
      "text/plain": [
       "DAY_OF_MONTH             0\n",
       "DAY_OF_WEEK              0\n",
       "OP_CARRIER               0\n",
       "TAIL_NUM              2543\n",
       "OP_CARRIER_FL_NUM        0\n",
       "ORIGIN_AIRPORT_ID        0\n",
       "DEST_AIRPORT_ID          0\n",
       "DEP_TIME             16352\n",
       "DEP_DEL15            16355\n",
       "DEP_TIME_BLK             0\n",
       "ARR_TIME             17061\n",
       "ARR_DEL15            18022\n",
       "CANCELLED                0\n",
       "DIVERTED                 0\n",
       "DISTANCE                 0\n",
       "dtype: int64"
      ]
     },
     "execution_count": 23,
     "metadata": {},
     "output_type": "execute_result"
    }
   ],
   "source": [
    "df_2019.isna().sum()"
   ]
  },
  {
   "cell_type": "markdown",
   "id": "89f94414",
   "metadata": {},
   "source": [
    "Hay 5 variables con nulos:\n",
    "TAIL_NUM,DEP_TIME,DEP_DEL15,ARR_TIME,ARR_DEL15  \n",
    "\n",
    "**NULOS DEP_TIME**"
   ]
  },
  {
   "cell_type": "code",
   "execution_count": 24,
   "id": "70db9d21",
   "metadata": {},
   "outputs": [
    {
     "data": {
      "text/plain": [
       "DAY_OF_MONTH             0\n",
       "DAY_OF_WEEK              0\n",
       "OP_CARRIER               0\n",
       "TAIL_NUM              2543\n",
       "OP_CARRIER_FL_NUM        0\n",
       "ORIGIN_AIRPORT_ID        0\n",
       "DEST_AIRPORT_ID          0\n",
       "DEP_TIME             16352\n",
       "DEP_DEL15            16352\n",
       "DEP_TIME_BLK             0\n",
       "ARR_TIME             16352\n",
       "ARR_DEL15            16352\n",
       "CANCELLED                0\n",
       "DIVERTED                 0\n",
       "DISTANCE                 0\n",
       "dtype: int64"
      ]
     },
     "execution_count": 24,
     "metadata": {},
     "output_type": "execute_result"
    }
   ],
   "source": [
    "df_2019[df_2019['DEP_TIME'].isna()].isna().sum()"
   ]
  },
  {
   "cell_type": "code",
   "execution_count": 25,
   "id": "14d2fbab",
   "metadata": {},
   "outputs": [
    {
     "data": {
      "text/plain": [
       "array([1.])"
      ]
     },
     "execution_count": 25,
     "metadata": {},
     "output_type": "execute_result"
    }
   ],
   "source": [
    "# Todos los dep_time nullos se han cancelado\n",
    "df_2019[df_2019['DEP_TIME'].isna()].CANCELLED.unique()\n"
   ]
  },
  {
   "cell_type": "code",
   "execution_count": 26,
   "id": "b20ea77e",
   "metadata": {},
   "outputs": [],
   "source": [
    "\n",
    "indeces_nulos = df_2019.loc[df_2019['DEP_TIME'].isna()].index.values\n",
    "variables = ['DEP_TIME','DEP_DEL15','ARR_TIME','ARR_DEL15']\n",
    "df_2019.loc[indeces_nulos,variables]= df_2019.loc[indeces_nulos,variables].fillna(0)\n",
    "\n"
   ]
  },
  {
   "cell_type": "markdown",
   "id": "c1600d4f",
   "metadata": {},
   "source": [
    "NULOS DEP_TIME: Todos pertenecen a vuelos que se han cancelado\n",
    "\n",
    "Imputamos las horas salida y llegada a cero"
   ]
  },
  {
   "cell_type": "markdown",
   "id": "6f0dd2c2",
   "metadata": {},
   "source": [
    "**NULOS ARR_TIME**"
   ]
  },
  {
   "cell_type": "code",
   "execution_count": 27,
   "id": "1d7bdad6",
   "metadata": {},
   "outputs": [
    {
     "data": {
      "text/plain": [
       "DAY_OF_MONTH            0\n",
       "DAY_OF_WEEK             0\n",
       "OP_CARRIER              0\n",
       "TAIL_NUM             2543\n",
       "OP_CARRIER_FL_NUM       0\n",
       "ORIGIN_AIRPORT_ID       0\n",
       "DEST_AIRPORT_ID         0\n",
       "DEP_TIME                0\n",
       "DEP_DEL15               3\n",
       "DEP_TIME_BLK            0\n",
       "ARR_TIME              709\n",
       "ARR_DEL15            1670\n",
       "CANCELLED               0\n",
       "DIVERTED                0\n",
       "DISTANCE                0\n",
       "dtype: int64"
      ]
     },
     "execution_count": 27,
     "metadata": {},
     "output_type": "execute_result"
    }
   ],
   "source": [
    "df_2019.isna().sum()"
   ]
  },
  {
   "cell_type": "code",
   "execution_count": 28,
   "id": "8e30b0b5",
   "metadata": {},
   "outputs": [
    {
     "data": {
      "text/plain": [
       "1.0    1296\n",
       "0.0     374\n",
       "Name: DIVERTED, dtype: int64"
      ]
     },
     "execution_count": 28,
     "metadata": {},
     "output_type": "execute_result"
    }
   ],
   "source": [
    "df_2019[df_2019['ARR_DEL15'].isna()].DIVERTED.value_counts()"
   ]
  },
  {
   "cell_type": "code",
   "execution_count": 29,
   "id": "6ff6c0c7",
   "metadata": {},
   "outputs": [
    {
     "data": {
      "text/plain": [
       "0.0    1296\n",
       "1.0     374\n",
       "Name: CANCELLED, dtype: int64"
      ]
     },
     "execution_count": 29,
     "metadata": {},
     "output_type": "execute_result"
    }
   ],
   "source": [
    "df_2019[df_2019['ARR_DEL15'].isna()].CANCELLED.value_counts()"
   ]
  },
  {
   "cell_type": "markdown",
   "id": "fe048de2",
   "metadata": {},
   "source": [
    "Todas los datos nulos \"ARR_DEL15\", son debidos a que son \"diverted\" or \"cancelled\".   \n",
    "Los imputamos a cero"
   ]
  },
  {
   "cell_type": "code",
   "execution_count": 30,
   "id": "d2083f21",
   "metadata": {},
   "outputs": [],
   "source": [
    "indeces_nulos = df_2019.loc[df_2019['ARR_DEL15'].isna()].index.values\n",
    "variables = ['ARR_TIME','ARR_DEL15']\n",
    "df_2019.loc[indeces_nulos,variables]= df_2019.loc[indeces_nulos,variables].fillna(0)\n"
   ]
  },
  {
   "cell_type": "code",
   "execution_count": 31,
   "id": "aeb10404",
   "metadata": {},
   "outputs": [
    {
     "data": {
      "text/plain": [
       "DAY_OF_MONTH            0\n",
       "DAY_OF_WEEK             0\n",
       "OP_CARRIER              0\n",
       "TAIL_NUM             2543\n",
       "OP_CARRIER_FL_NUM       0\n",
       "ORIGIN_AIRPORT_ID       0\n",
       "DEST_AIRPORT_ID         0\n",
       "DEP_TIME                0\n",
       "DEP_DEL15               3\n",
       "DEP_TIME_BLK            0\n",
       "ARR_TIME                0\n",
       "ARR_DEL15               0\n",
       "CANCELLED               0\n",
       "DIVERTED                0\n",
       "DISTANCE                0\n",
       "dtype: int64"
      ]
     },
     "execution_count": 31,
     "metadata": {},
     "output_type": "execute_result"
    }
   ],
   "source": [
    "df_2019.isna().sum()"
   ]
  },
  {
   "cell_type": "code",
   "execution_count": 32,
   "id": "3e8276d0",
   "metadata": {},
   "outputs": [
    {
     "data": {
      "text/html": [
       "<div>\n",
       "<style scoped>\n",
       "    .dataframe tbody tr th:only-of-type {\n",
       "        vertical-align: middle;\n",
       "    }\n",
       "\n",
       "    .dataframe tbody tr th {\n",
       "        vertical-align: top;\n",
       "    }\n",
       "\n",
       "    .dataframe thead th {\n",
       "        text-align: right;\n",
       "    }\n",
       "</style>\n",
       "<table border=\"1\" class=\"dataframe\">\n",
       "  <thead>\n",
       "    <tr style=\"text-align: right;\">\n",
       "      <th></th>\n",
       "      <th>DAY_OF_MONTH</th>\n",
       "      <th>DAY_OF_WEEK</th>\n",
       "      <th>OP_CARRIER</th>\n",
       "      <th>TAIL_NUM</th>\n",
       "      <th>OP_CARRIER_FL_NUM</th>\n",
       "      <th>ORIGIN_AIRPORT_ID</th>\n",
       "      <th>DEST_AIRPORT_ID</th>\n",
       "      <th>DEP_TIME</th>\n",
       "      <th>DEP_DEL15</th>\n",
       "      <th>DEP_TIME_BLK</th>\n",
       "      <th>ARR_TIME</th>\n",
       "      <th>ARR_DEL15</th>\n",
       "      <th>CANCELLED</th>\n",
       "      <th>DIVERTED</th>\n",
       "      <th>DISTANCE</th>\n",
       "    </tr>\n",
       "  </thead>\n",
       "  <tbody>\n",
       "    <tr>\n",
       "      <th>323692</th>\n",
       "      <td>18</td>\n",
       "      <td>5</td>\n",
       "      <td>G4</td>\n",
       "      <td>302NV</td>\n",
       "      <td>49</td>\n",
       "      <td>13871</td>\n",
       "      <td>12889</td>\n",
       "      <td>1316.0</td>\n",
       "      <td>NaN</td>\n",
       "      <td>1300-1359</td>\n",
       "      <td>0.0</td>\n",
       "      <td>0.0</td>\n",
       "      <td>1.0</td>\n",
       "      <td>0.0</td>\n",
       "      <td>1099.0</td>\n",
       "    </tr>\n",
       "    <tr>\n",
       "      <th>504903</th>\n",
       "      <td>27</td>\n",
       "      <td>7</td>\n",
       "      <td>F9</td>\n",
       "      <td>N316FR</td>\n",
       "      <td>2880</td>\n",
       "      <td>13303</td>\n",
       "      <td>12953</td>\n",
       "      <td>1852.0</td>\n",
       "      <td>NaN</td>\n",
       "      <td>1800-1859</td>\n",
       "      <td>0.0</td>\n",
       "      <td>0.0</td>\n",
       "      <td>1.0</td>\n",
       "      <td>0.0</td>\n",
       "      <td>1096.0</td>\n",
       "    </tr>\n",
       "    <tr>\n",
       "      <th>507355</th>\n",
       "      <td>28</td>\n",
       "      <td>1</td>\n",
       "      <td>G4</td>\n",
       "      <td>327NV</td>\n",
       "      <td>2117</td>\n",
       "      <td>15295</td>\n",
       "      <td>14761</td>\n",
       "      <td>1915.0</td>\n",
       "      <td>NaN</td>\n",
       "      <td>1800-1859</td>\n",
       "      <td>0.0</td>\n",
       "      <td>0.0</td>\n",
       "      <td>1.0</td>\n",
       "      <td>0.0</td>\n",
       "      <td>895.0</td>\n",
       "    </tr>\n",
       "  </tbody>\n",
       "</table>\n",
       "</div>"
      ],
      "text/plain": [
       "        DAY_OF_MONTH  DAY_OF_WEEK OP_CARRIER TAIL_NUM  OP_CARRIER_FL_NUM  \\\n",
       "323692            18            5         G4    302NV                 49   \n",
       "504903            27            7         F9   N316FR               2880   \n",
       "507355            28            1         G4    327NV               2117   \n",
       "\n",
       "        ORIGIN_AIRPORT_ID  DEST_AIRPORT_ID  DEP_TIME  DEP_DEL15 DEP_TIME_BLK  \\\n",
       "323692              13871            12889    1316.0        NaN    1300-1359   \n",
       "504903              13303            12953    1852.0        NaN    1800-1859   \n",
       "507355              15295            14761    1915.0        NaN    1800-1859   \n",
       "\n",
       "        ARR_TIME  ARR_DEL15  CANCELLED  DIVERTED  DISTANCE  \n",
       "323692       0.0        0.0        1.0       0.0    1099.0  \n",
       "504903       0.0        0.0        1.0       0.0    1096.0  \n",
       "507355       0.0        0.0        1.0       0.0     895.0  "
      ]
     },
     "execution_count": 32,
     "metadata": {},
     "output_type": "execute_result"
    }
   ],
   "source": [
    "# Hay 3 nulos en dep_del15\n",
    "df_2019[df_2019['DEP_DEL15'].isna()]"
   ]
  },
  {
   "cell_type": "markdown",
   "id": "f70a6340",
   "metadata": {},
   "source": [
    "El vuelo nunca llego a salir,estan cancelados  \n",
    "Le pongo cero como a los de antes"
   ]
  },
  {
   "cell_type": "code",
   "execution_count": 33,
   "id": "0b13a39b",
   "metadata": {},
   "outputs": [],
   "source": [
    "df_2019['DEP_DEL15'] = df_2019['DEP_DEL15'].fillna(0)"
   ]
  },
  {
   "cell_type": "code",
   "execution_count": 34,
   "id": "21072a85",
   "metadata": {},
   "outputs": [
    {
     "data": {
      "text/plain": [
       "DAY_OF_MONTH            0\n",
       "DAY_OF_WEEK             0\n",
       "OP_CARRIER              0\n",
       "TAIL_NUM             2543\n",
       "OP_CARRIER_FL_NUM       0\n",
       "ORIGIN_AIRPORT_ID       0\n",
       "DEST_AIRPORT_ID         0\n",
       "DEP_TIME                0\n",
       "DEP_DEL15               0\n",
       "DEP_TIME_BLK            0\n",
       "ARR_TIME                0\n",
       "ARR_DEL15               0\n",
       "CANCELLED               0\n",
       "DIVERTED                0\n",
       "DISTANCE                0\n",
       "dtype: int64"
      ]
     },
     "execution_count": 34,
     "metadata": {},
     "output_type": "execute_result"
    }
   ],
   "source": [
    "df_2019.isna().sum()"
   ]
  },
  {
   "cell_type": "markdown",
   "id": "3a7c89d7",
   "metadata": {},
   "source": [
    "**NULOS de 'Tail_num'**"
   ]
  },
  {
   "cell_type": "code",
   "execution_count": 35,
   "id": "0f594bcc",
   "metadata": {},
   "outputs": [
    {
     "data": {
      "text/html": [
       "<div>\n",
       "<style scoped>\n",
       "    .dataframe tbody tr th:only-of-type {\n",
       "        vertical-align: middle;\n",
       "    }\n",
       "\n",
       "    .dataframe tbody tr th {\n",
       "        vertical-align: top;\n",
       "    }\n",
       "\n",
       "    .dataframe thead th {\n",
       "        text-align: right;\n",
       "    }\n",
       "</style>\n",
       "<table border=\"1\" class=\"dataframe\">\n",
       "  <thead>\n",
       "    <tr style=\"text-align: right;\">\n",
       "      <th></th>\n",
       "      <th>DAY_OF_MONTH</th>\n",
       "      <th>DAY_OF_WEEK</th>\n",
       "      <th>OP_CARRIER</th>\n",
       "      <th>TAIL_NUM</th>\n",
       "      <th>OP_CARRIER_FL_NUM</th>\n",
       "      <th>ORIGIN_AIRPORT_ID</th>\n",
       "      <th>DEST_AIRPORT_ID</th>\n",
       "      <th>DEP_TIME</th>\n",
       "      <th>DEP_DEL15</th>\n",
       "      <th>DEP_TIME_BLK</th>\n",
       "      <th>ARR_TIME</th>\n",
       "      <th>ARR_DEL15</th>\n",
       "      <th>CANCELLED</th>\n",
       "      <th>DIVERTED</th>\n",
       "      <th>DISTANCE</th>\n",
       "    </tr>\n",
       "  </thead>\n",
       "  <tbody>\n",
       "    <tr>\n",
       "      <th>11084</th>\n",
       "      <td>1</td>\n",
       "      <td>2</td>\n",
       "      <td>YV</td>\n",
       "      <td>NaN</td>\n",
       "      <td>5975</td>\n",
       "      <td>11775</td>\n",
       "      <td>11298</td>\n",
       "      <td>0.0</td>\n",
       "      <td>0.0</td>\n",
       "      <td>0700-0759</td>\n",
       "      <td>0.0</td>\n",
       "      <td>0.0</td>\n",
       "      <td>1.0</td>\n",
       "      <td>0.0</td>\n",
       "      <td>737.0</td>\n",
       "    </tr>\n",
       "    <tr>\n",
       "      <th>17776</th>\n",
       "      <td>1</td>\n",
       "      <td>2</td>\n",
       "      <td>YV</td>\n",
       "      <td>NaN</td>\n",
       "      <td>5758</td>\n",
       "      <td>10140</td>\n",
       "      <td>14107</td>\n",
       "      <td>0.0</td>\n",
       "      <td>0.0</td>\n",
       "      <td>0800-0859</td>\n",
       "      <td>0.0</td>\n",
       "      <td>0.0</td>\n",
       "      <td>1.0</td>\n",
       "      <td>0.0</td>\n",
       "      <td>328.0</td>\n",
       "    </tr>\n",
       "    <tr>\n",
       "      <th>53853</th>\n",
       "      <td>3</td>\n",
       "      <td>4</td>\n",
       "      <td>YX</td>\n",
       "      <td>NaN</td>\n",
       "      <td>4629</td>\n",
       "      <td>13851</td>\n",
       "      <td>14100</td>\n",
       "      <td>0.0</td>\n",
       "      <td>0.0</td>\n",
       "      <td>0001-0559</td>\n",
       "      <td>0.0</td>\n",
       "      <td>0.0</td>\n",
       "      <td>1.0</td>\n",
       "      <td>0.0</td>\n",
       "      <td>1261.0</td>\n",
       "    </tr>\n",
       "    <tr>\n",
       "      <th>56065</th>\n",
       "      <td>3</td>\n",
       "      <td>4</td>\n",
       "      <td>YV</td>\n",
       "      <td>NaN</td>\n",
       "      <td>5909</td>\n",
       "      <td>13422</td>\n",
       "      <td>11298</td>\n",
       "      <td>0.0</td>\n",
       "      <td>0.0</td>\n",
       "      <td>0600-0659</td>\n",
       "      <td>0.0</td>\n",
       "      <td>0.0</td>\n",
       "      <td>1.0</td>\n",
       "      <td>0.0</td>\n",
       "      <td>539.0</td>\n",
       "    </tr>\n",
       "    <tr>\n",
       "      <th>64336</th>\n",
       "      <td>4</td>\n",
       "      <td>5</td>\n",
       "      <td>WN</td>\n",
       "      <td>NaN</td>\n",
       "      <td>955</td>\n",
       "      <td>13851</td>\n",
       "      <td>11278</td>\n",
       "      <td>0.0</td>\n",
       "      <td>0.0</td>\n",
       "      <td>0700-0759</td>\n",
       "      <td>0.0</td>\n",
       "      <td>0.0</td>\n",
       "      <td>1.0</td>\n",
       "      <td>0.0</td>\n",
       "      <td>1158.0</td>\n",
       "    </tr>\n",
       "    <tr>\n",
       "      <th>...</th>\n",
       "      <td>...</td>\n",
       "      <td>...</td>\n",
       "      <td>...</td>\n",
       "      <td>...</td>\n",
       "      <td>...</td>\n",
       "      <td>...</td>\n",
       "      <td>...</td>\n",
       "      <td>...</td>\n",
       "      <td>...</td>\n",
       "      <td>...</td>\n",
       "      <td>...</td>\n",
       "      <td>...</td>\n",
       "      <td>...</td>\n",
       "      <td>...</td>\n",
       "      <td>...</td>\n",
       "    </tr>\n",
       "    <tr>\n",
       "      <th>583958</th>\n",
       "      <td>31</td>\n",
       "      <td>4</td>\n",
       "      <td>UA</td>\n",
       "      <td>NaN</td>\n",
       "      <td>220</td>\n",
       "      <td>14122</td>\n",
       "      <td>13930</td>\n",
       "      <td>0.0</td>\n",
       "      <td>0.0</td>\n",
       "      <td>1700-1759</td>\n",
       "      <td>0.0</td>\n",
       "      <td>0.0</td>\n",
       "      <td>1.0</td>\n",
       "      <td>0.0</td>\n",
       "      <td>413.0</td>\n",
       "    </tr>\n",
       "    <tr>\n",
       "      <th>583959</th>\n",
       "      <td>31</td>\n",
       "      <td>4</td>\n",
       "      <td>UA</td>\n",
       "      <td>NaN</td>\n",
       "      <td>219</td>\n",
       "      <td>10792</td>\n",
       "      <td>13930</td>\n",
       "      <td>0.0</td>\n",
       "      <td>0.0</td>\n",
       "      <td>0800-0859</td>\n",
       "      <td>0.0</td>\n",
       "      <td>0.0</td>\n",
       "      <td>1.0</td>\n",
       "      <td>0.0</td>\n",
       "      <td>473.0</td>\n",
       "    </tr>\n",
       "    <tr>\n",
       "      <th>583964</th>\n",
       "      <td>31</td>\n",
       "      <td>4</td>\n",
       "      <td>UA</td>\n",
       "      <td>NaN</td>\n",
       "      <td>215</td>\n",
       "      <td>11042</td>\n",
       "      <td>13930</td>\n",
       "      <td>0.0</td>\n",
       "      <td>0.0</td>\n",
       "      <td>1600-1659</td>\n",
       "      <td>0.0</td>\n",
       "      <td>0.0</td>\n",
       "      <td>1.0</td>\n",
       "      <td>0.0</td>\n",
       "      <td>315.0</td>\n",
       "    </tr>\n",
       "    <tr>\n",
       "      <th>583966</th>\n",
       "      <td>31</td>\n",
       "      <td>4</td>\n",
       "      <td>UA</td>\n",
       "      <td>NaN</td>\n",
       "      <td>213</td>\n",
       "      <td>10849</td>\n",
       "      <td>13930</td>\n",
       "      <td>0.0</td>\n",
       "      <td>0.0</td>\n",
       "      <td>0900-0959</td>\n",
       "      <td>0.0</td>\n",
       "      <td>0.0</td>\n",
       "      <td>1.0</td>\n",
       "      <td>0.0</td>\n",
       "      <td>1186.0</td>\n",
       "    </tr>\n",
       "    <tr>\n",
       "      <th>583967</th>\n",
       "      <td>31</td>\n",
       "      <td>4</td>\n",
       "      <td>UA</td>\n",
       "      <td>NaN</td>\n",
       "      <td>212</td>\n",
       "      <td>10693</td>\n",
       "      <td>13930</td>\n",
       "      <td>0.0</td>\n",
       "      <td>0.0</td>\n",
       "      <td>1200-1259</td>\n",
       "      <td>0.0</td>\n",
       "      <td>0.0</td>\n",
       "      <td>1.0</td>\n",
       "      <td>0.0</td>\n",
       "      <td>409.0</td>\n",
       "    </tr>\n",
       "  </tbody>\n",
       "</table>\n",
       "<p>2543 rows × 15 columns</p>\n",
       "</div>"
      ],
      "text/plain": [
       "        DAY_OF_MONTH  DAY_OF_WEEK OP_CARRIER TAIL_NUM  OP_CARRIER_FL_NUM  \\\n",
       "11084              1            2         YV      NaN               5975   \n",
       "17776              1            2         YV      NaN               5758   \n",
       "53853              3            4         YX      NaN               4629   \n",
       "56065              3            4         YV      NaN               5909   \n",
       "64336              4            5         WN      NaN                955   \n",
       "...              ...          ...        ...      ...                ...   \n",
       "583958            31            4         UA      NaN                220   \n",
       "583959            31            4         UA      NaN                219   \n",
       "583964            31            4         UA      NaN                215   \n",
       "583966            31            4         UA      NaN                213   \n",
       "583967            31            4         UA      NaN                212   \n",
       "\n",
       "        ORIGIN_AIRPORT_ID  DEST_AIRPORT_ID  DEP_TIME  DEP_DEL15 DEP_TIME_BLK  \\\n",
       "11084               11775            11298       0.0        0.0    0700-0759   \n",
       "17776               10140            14107       0.0        0.0    0800-0859   \n",
       "53853               13851            14100       0.0        0.0    0001-0559   \n",
       "56065               13422            11298       0.0        0.0    0600-0659   \n",
       "64336               13851            11278       0.0        0.0    0700-0759   \n",
       "...                   ...              ...       ...        ...          ...   \n",
       "583958              14122            13930       0.0        0.0    1700-1759   \n",
       "583959              10792            13930       0.0        0.0    0800-0859   \n",
       "583964              11042            13930       0.0        0.0    1600-1659   \n",
       "583966              10849            13930       0.0        0.0    0900-0959   \n",
       "583967              10693            13930       0.0        0.0    1200-1259   \n",
       "\n",
       "        ARR_TIME  ARR_DEL15  CANCELLED  DIVERTED  DISTANCE  \n",
       "11084        0.0        0.0        1.0       0.0     737.0  \n",
       "17776        0.0        0.0        1.0       0.0     328.0  \n",
       "53853        0.0        0.0        1.0       0.0    1261.0  \n",
       "56065        0.0        0.0        1.0       0.0     539.0  \n",
       "64336        0.0        0.0        1.0       0.0    1158.0  \n",
       "...          ...        ...        ...       ...       ...  \n",
       "583958       0.0        0.0        1.0       0.0     413.0  \n",
       "583959       0.0        0.0        1.0       0.0     473.0  \n",
       "583964       0.0        0.0        1.0       0.0     315.0  \n",
       "583966       0.0        0.0        1.0       0.0    1186.0  \n",
       "583967       0.0        0.0        1.0       0.0     409.0  \n",
       "\n",
       "[2543 rows x 15 columns]"
      ]
     },
     "execution_count": 35,
     "metadata": {},
     "output_type": "execute_result"
    }
   ],
   "source": [
    "df_2019[df_2019['TAIL_NUM'].isna()]"
   ]
  },
  {
   "cell_type": "code",
   "execution_count": 36,
   "id": "2efa65d8",
   "metadata": {},
   "outputs": [
    {
     "data": {
      "text/plain": [
       "DEP_TIME  ARR_TIME\n",
       "0.0       0.0         2543\n",
       "dtype: int64"
      ]
     },
     "execution_count": 36,
     "metadata": {},
     "output_type": "execute_result"
    }
   ],
   "source": [
    "df_2019.loc[df_2019['TAIL_NUM'].isna(),['DEP_TIME','ARR_TIME']].value_counts()"
   ]
  },
  {
   "cell_type": "code",
   "execution_count": 37,
   "id": "6d5688ef",
   "metadata": {},
   "outputs": [],
   "source": [
    "df_2019 = df_2019.loc[~df_2019['TAIL_NUM'].isna()]"
   ]
  },
  {
   "cell_type": "markdown",
   "id": "fa31b9b8",
   "metadata": {},
   "source": [
    "Todos han sido cancelados y no tienen Tiempo de de salida. Voy a quitarlos"
   ]
  },
  {
   "cell_type": "code",
   "execution_count": 38,
   "id": "91757963",
   "metadata": {},
   "outputs": [
    {
     "data": {
      "text/plain": [
       "DAY_OF_MONTH         0\n",
       "DAY_OF_WEEK          0\n",
       "OP_CARRIER           0\n",
       "TAIL_NUM             0\n",
       "OP_CARRIER_FL_NUM    0\n",
       "ORIGIN_AIRPORT_ID    0\n",
       "DEST_AIRPORT_ID      0\n",
       "DEP_TIME             0\n",
       "DEP_DEL15            0\n",
       "DEP_TIME_BLK         0\n",
       "ARR_TIME             0\n",
       "ARR_DEL15            0\n",
       "CANCELLED            0\n",
       "DIVERTED             0\n",
       "DISTANCE             0\n",
       "dtype: int64"
      ]
     },
     "execution_count": 38,
     "metadata": {},
     "output_type": "execute_result"
    }
   ],
   "source": [
    "df_2019.isna().sum()"
   ]
  },
  {
   "cell_type": "markdown",
   "id": "cbb671c7",
   "metadata": {},
   "source": [
    "**CONCLUSION**: \n",
    "- Los nulos de salidas y llegadas de deben a que el vuelo se ha cancelado o se ha redirigido a otro sitio.\n",
    "- Se han eliminado los vuelos que no se sabian el nombre del avion (TAIL_NUM)"
   ]
  },
  {
   "cell_type": "markdown",
   "id": "fccfb800",
   "metadata": {},
   "source": [
    "### Variables y nombres"
   ]
  },
  {
   "cell_type": "code",
   "execution_count": 39,
   "id": "a89eb7fe",
   "metadata": {},
   "outputs": [
    {
     "data": {
      "text/plain": [
       "46"
      ]
     },
     "execution_count": 39,
     "metadata": {},
     "output_type": "execute_result"
    }
   ],
   "source": [
    "# Hora, pasamos las 24h a las 00h\n",
    "np.sum(df_2019['DEP_TIME']==2400)"
   ]
  },
  {
   "cell_type": "code",
   "execution_count": 40,
   "id": "65de1add",
   "metadata": {},
   "outputs": [],
   "source": [
    "# df_2019[df_2019['DEP_TIME']==2400]\n",
    "df_2019['DEP_TIME'] = np.where(df_2019['DEP_TIME']==2400,0,df_2019['DEP_TIME'])\n",
    "df_2019['ARR_TIME'] = np.where(df_2019['ARR_TIME']==2400,0,df_2019['ARR_TIME'])\n",
    "df_2019['MES'] = 1"
   ]
  },
  {
   "cell_type": "code",
   "execution_count": 41,
   "id": "7c183b16",
   "metadata": {},
   "outputs": [],
   "source": [
    "# SALIDA\n",
    "def Tiempo(x,variable,year ):\n",
    "\n",
    "    hora =    int(floor(x[variable]/100))\n",
    "    minuto =  int(x[variable]- hora*100)\n",
    "    dia =     x['DAY_OF_MONTH']\n",
    "    mes =     x['MES']\n",
    "    \n",
    "    valor = pd.Timestamp(year = year, month = mes, day = dia, hour =  hora, minute=minuto)\n",
    "\n",
    "    return(  valor )\n",
    "\n",
    "\n",
    "\n",
    "df_2019.loc[:,'salida_date']= df_2019.loc[:].apply(lambda x: Tiempo(x,'DEP_TIME',2019),axis=1)\n"
   ]
  },
  {
   "cell_type": "code",
   "execution_count": 42,
   "id": "0875d8a4",
   "metadata": {},
   "outputs": [
    {
     "name": "stdout",
     "output_type": "stream",
     "text": [
      "<class 'pandas.core.frame.DataFrame'>\n",
      "Int64Index: 581442 entries, 0 to 583984\n",
      "Data columns (total 17 columns):\n",
      " #   Column             Non-Null Count   Dtype         \n",
      "---  ------             --------------   -----         \n",
      " 0   DAY_OF_MONTH       581442 non-null  int64         \n",
      " 1   DAY_OF_WEEK        581442 non-null  int64         \n",
      " 2   OP_CARRIER         581442 non-null  object        \n",
      " 3   TAIL_NUM           581442 non-null  object        \n",
      " 4   OP_CARRIER_FL_NUM  581442 non-null  int64         \n",
      " 5   ORIGIN_AIRPORT_ID  581442 non-null  int64         \n",
      " 6   DEST_AIRPORT_ID    581442 non-null  int64         \n",
      " 7   DEP_TIME           581442 non-null  float64       \n",
      " 8   DEP_DEL15          581442 non-null  float64       \n",
      " 9   DEP_TIME_BLK       581442 non-null  object        \n",
      " 10  ARR_TIME           581442 non-null  float64       \n",
      " 11  ARR_DEL15          581442 non-null  float64       \n",
      " 12  CANCELLED          581442 non-null  float64       \n",
      " 13  DIVERTED           581442 non-null  float64       \n",
      " 14  DISTANCE           581442 non-null  float64       \n",
      " 15  MES                581442 non-null  int64         \n",
      " 16  salida_date        581442 non-null  datetime64[ns]\n",
      "dtypes: datetime64[ns](1), float64(7), int64(6), object(3)\n",
      "memory usage: 79.8+ MB\n"
     ]
    }
   ],
   "source": [
    "df_2019.info()"
   ]
  },
  {
   "cell_type": "code",
   "execution_count": 43,
   "id": "4ebec5e9",
   "metadata": {},
   "outputs": [],
   "source": [
    "## LLEGADAS: ARRIVALS\n",
    "import datetime\n",
    "def Tiempo_llegada(x,variable,year =None):\n",
    "    \"\"\" Tiene en cuenta el cambio de dia durante el vuelo\"\"\"\n",
    "    \n",
    "    valor = Tiempo(x,variable,year =year)\n",
    "    if x['DEP_TIME'] > x['ARR_TIME']:\n",
    "        valor = valor +   datetime.timedelta(days=1)\n",
    "    return valor\n",
    "\n",
    "        \n",
    "\n",
    "df_2019.loc[:,'llegada_date'] = df_2019.apply(lambda x: Tiempo_llegada(x,'ARR_TIME',2019),axis=1)\n"
   ]
  },
  {
   "cell_type": "code",
   "execution_count": 44,
   "id": "d662b590",
   "metadata": {},
   "outputs": [],
   "source": [
    "df_2019.drop(columns=['MES','DEP_TIME', 'ARR_TIME','DEP_TIME_BLK'],inplace=True)"
   ]
  },
  {
   "cell_type": "code",
   "execution_count": 45,
   "id": "a93aace3",
   "metadata": {},
   "outputs": [],
   "source": [
    "df_2019['year']=2019"
   ]
  },
  {
   "cell_type": "code",
   "execution_count": 46,
   "id": "825ef212",
   "metadata": {},
   "outputs": [
    {
     "data": {
      "text/plain": [
       "DAY_OF_MONTH         0\n",
       "DAY_OF_WEEK          0\n",
       "OP_CARRIER           0\n",
       "TAIL_NUM             0\n",
       "OP_CARRIER_FL_NUM    0\n",
       "ORIGIN_AIRPORT_ID    0\n",
       "DEST_AIRPORT_ID      0\n",
       "DEP_DEL15            0\n",
       "ARR_DEL15            0\n",
       "CANCELLED            0\n",
       "DIVERTED             0\n",
       "DISTANCE             0\n",
       "salida_date          0\n",
       "llegada_date         0\n",
       "year                 0\n",
       "dtype: int64"
      ]
     },
     "execution_count": 46,
     "metadata": {},
     "output_type": "execute_result"
    }
   ],
   "source": [
    "df_2019.isna().sum()"
   ]
  },
  {
   "cell_type": "markdown",
   "id": "4847e371",
   "metadata": {},
   "source": [
    "# Año 2020"
   ]
  },
  {
   "cell_type": "code",
   "execution_count": 47,
   "id": "05ad5527",
   "metadata": {},
   "outputs": [
    {
     "name": "stdout",
     "output_type": "stream",
     "text": [
      "(607346, 22)\n"
     ]
    },
    {
     "data": {
      "text/plain": [
       "(607346, 22)"
      ]
     },
     "execution_count": 47,
     "metadata": {},
     "output_type": "execute_result"
    }
   ],
   "source": [
    "print(df_2020.shape)\n",
    "df_2020.drop_duplicates().shape"
   ]
  },
  {
   "cell_type": "code",
   "execution_count": 48,
   "id": "a076fb36",
   "metadata": {},
   "outputs": [],
   "source": [
    "a_eliminar = ['OP_UNIQUE_CARRIER','OP_CARRIER_AIRLINE_ID','OP_UNIQUE_CARRIER','ORIGIN','ORIGIN_AIRPORT_SEQ_ID',\n",
    "             'DEST','DEST_AIRPORT_SEQ_ID','Unnamed: 21']\n",
    "df_2020.drop(columns=a_eliminar, inplace=True)"
   ]
  },
  {
   "cell_type": "code",
   "execution_count": 49,
   "id": "20ced12c",
   "metadata": {},
   "outputs": [
    {
     "data": {
      "text/plain": [
       "DAY_OF_MONTH            0\n",
       "DAY_OF_WEEK             0\n",
       "OP_CARRIER              0\n",
       "TAIL_NUM              698\n",
       "OP_CARRIER_FL_NUM       0\n",
       "ORIGIN_AIRPORT_ID       0\n",
       "DEST_AIRPORT_ID         0\n",
       "DEP_TIME             6664\n",
       "DEP_DEL15            6664\n",
       "DEP_TIME_BLK            0\n",
       "ARR_TIME             6664\n",
       "ARR_DEL15            6664\n",
       "CANCELLED               0\n",
       "DIVERTED                0\n",
       "DISTANCE                0\n",
       "dtype: int64"
      ]
     },
     "execution_count": 49,
     "metadata": {},
     "output_type": "execute_result"
    }
   ],
   "source": [
    "df_2020[df_2020['DEP_TIME'].isna()].isna().sum()"
   ]
  },
  {
   "cell_type": "markdown",
   "id": "6ba7574e",
   "metadata": {},
   "source": [
    "## nulos 2020"
   ]
  },
  {
   "cell_type": "code",
   "execution_count": 50,
   "id": "9600783f",
   "metadata": {},
   "outputs": [
    {
     "data": {
      "text/plain": [
       "DAY_OF_MONTH            0\n",
       "DAY_OF_WEEK             0\n",
       "OP_CARRIER              0\n",
       "TAIL_NUM              698\n",
       "OP_CARRIER_FL_NUM       0\n",
       "ORIGIN_AIRPORT_ID       0\n",
       "DEST_AIRPORT_ID         0\n",
       "DEP_TIME             6664\n",
       "DEP_DEL15            6664\n",
       "DEP_TIME_BLK            0\n",
       "ARR_TIME             6664\n",
       "ARR_DEL15            6664\n",
       "CANCELLED               0\n",
       "DIVERTED                0\n",
       "DISTANCE                0\n",
       "dtype: int64"
      ]
     },
     "execution_count": 50,
     "metadata": {},
     "output_type": "execute_result"
    }
   ],
   "source": [
    "df_2020[df_2020['DEP_TIME'].isna()].isna().sum()"
   ]
  },
  {
   "cell_type": "markdown",
   "id": "27348012",
   "metadata": {},
   "source": [
    "Es exactamente igual al año 2019: nulos en variables relacionadas con las horas de salida y llegada y el numero del vuelo"
   ]
  },
  {
   "cell_type": "code",
   "execution_count": 51,
   "id": "ffd933da",
   "metadata": {},
   "outputs": [],
   "source": [
    "df_2020['DEP_TIME'] = np.where(df_2020['DEP_TIME']==2400,0,df_2020['DEP_TIME'])\n",
    "df_2020['ARR_TIME'] = np.where(df_2020['ARR_TIME']==2400,0,df_2020['ARR_TIME'])\n",
    "df_2020['MES'] = 1"
   ]
  },
  {
   "cell_type": "markdown",
   "id": "d5137505",
   "metadata": {},
   "source": [
    "**Nulos Hora de salida**"
   ]
  },
  {
   "cell_type": "code",
   "execution_count": 52,
   "id": "591e282e",
   "metadata": {},
   "outputs": [],
   "source": [
    "indeces_nulos = df_2020.loc[df_2020['DEP_TIME'].isna()].index.values\n",
    "variables = ['DEP_TIME','DEP_DEL15','ARR_TIME','ARR_DEL15']\n",
    "df_2020.loc[indeces_nulos,variables]= df_2020.loc[indeces_nulos,variables].fillna(0)"
   ]
  },
  {
   "cell_type": "code",
   "execution_count": 53,
   "id": "380faf3f",
   "metadata": {},
   "outputs": [
    {
     "data": {
      "text/plain": [
       "DAY_OF_MONTH            0\n",
       "DAY_OF_WEEK             0\n",
       "OP_CARRIER              0\n",
       "TAIL_NUM              698\n",
       "OP_CARRIER_FL_NUM       0\n",
       "ORIGIN_AIRPORT_ID       0\n",
       "DEST_AIRPORT_ID         0\n",
       "DEP_TIME                0\n",
       "DEP_DEL15              35\n",
       "DEP_TIME_BLK            0\n",
       "ARR_TIME              411\n",
       "ARR_DEL15            1414\n",
       "CANCELLED               0\n",
       "DIVERTED                0\n",
       "DISTANCE                0\n",
       "MES                     0\n",
       "dtype: int64"
      ]
     },
     "execution_count": 53,
     "metadata": {},
     "output_type": "execute_result"
    }
   ],
   "source": [
    "df_2020.isna().sum()"
   ]
  },
  {
   "cell_type": "markdown",
   "id": "dc82ec43",
   "metadata": {},
   "source": [
    "**Nulos Hora de llegada**"
   ]
  },
  {
   "cell_type": "code",
   "execution_count": 54,
   "id": "1e627587",
   "metadata": {},
   "outputs": [],
   "source": [
    "indeces_nulos = df_2020.loc[df_2020['ARR_DEL15'].isna()].index.values\n",
    "variables = ['ARR_TIME','ARR_DEL15']\n",
    "df_2020.loc[indeces_nulos,variables]= df_2020.loc[indeces_nulos,variables].fillna(0)\n"
   ]
  },
  {
   "cell_type": "code",
   "execution_count": 55,
   "id": "27c0aeeb",
   "metadata": {},
   "outputs": [
    {
     "data": {
      "text/plain": [
       "DAY_OF_MONTH           0\n",
       "DAY_OF_WEEK            0\n",
       "OP_CARRIER             0\n",
       "TAIL_NUM             698\n",
       "OP_CARRIER_FL_NUM      0\n",
       "ORIGIN_AIRPORT_ID      0\n",
       "DEST_AIRPORT_ID        0\n",
       "DEP_TIME               0\n",
       "DEP_DEL15             35\n",
       "DEP_TIME_BLK           0\n",
       "ARR_TIME               0\n",
       "ARR_DEL15              0\n",
       "CANCELLED              0\n",
       "DIVERTED               0\n",
       "DISTANCE               0\n",
       "MES                    0\n",
       "dtype: int64"
      ]
     },
     "execution_count": 55,
     "metadata": {},
     "output_type": "execute_result"
    }
   ],
   "source": [
    "df_2020.isna().sum()"
   ]
  },
  {
   "cell_type": "markdown",
   "id": "a5efeb2b",
   "metadata": {},
   "source": [
    "**Nulos nombre vuelo**"
   ]
  },
  {
   "cell_type": "code",
   "execution_count": 56,
   "id": "cc614e0a",
   "metadata": {},
   "outputs": [
    {
     "data": {
      "text/plain": [
       "DAY_OF_MONTH          0\n",
       "DAY_OF_WEEK           0\n",
       "OP_CARRIER            0\n",
       "TAIL_NUM              0\n",
       "OP_CARRIER_FL_NUM     0\n",
       "ORIGIN_AIRPORT_ID     0\n",
       "DEST_AIRPORT_ID       0\n",
       "DEP_TIME              0\n",
       "DEP_DEL15            35\n",
       "DEP_TIME_BLK          0\n",
       "ARR_TIME              0\n",
       "ARR_DEL15             0\n",
       "CANCELLED             0\n",
       "DIVERTED              0\n",
       "DISTANCE              0\n",
       "MES                   0\n",
       "dtype: int64"
      ]
     },
     "execution_count": 56,
     "metadata": {},
     "output_type": "execute_result"
    }
   ],
   "source": [
    "df_2020 = df_2020.loc[~df_2020['TAIL_NUM'].isna()]\n",
    "df_2020.isna().sum()"
   ]
  },
  {
   "cell_type": "code",
   "execution_count": 57,
   "id": "943914ba",
   "metadata": {},
   "outputs": [],
   "source": [
    "df_2020.loc[:,['DEP_DEL15']] = df_2020.loc[:,['DEP_DEL15']].fillna(0)"
   ]
  },
  {
   "cell_type": "code",
   "execution_count": 58,
   "id": "93d98162",
   "metadata": {},
   "outputs": [],
   "source": [
    "df_2020.loc[:,'salida_date']= df_2020.loc[:].apply(lambda x: Tiempo(x,'DEP_TIME',2020),axis=1)\n",
    "df_2020.loc[:,'llegada_date'] = df_2020.apply(lambda x: Tiempo_llegada(x,'ARR_TIME',2020),axis=1)\n"
   ]
  },
  {
   "cell_type": "code",
   "execution_count": 59,
   "id": "3c896747",
   "metadata": {},
   "outputs": [],
   "source": [
    "df_2020.drop(columns=['MES','DEP_TIME', 'ARR_TIME','DEP_TIME_BLK'],inplace=True)\n",
    "\n",
    "df_2020['year']=2020"
   ]
  },
  {
   "cell_type": "code",
   "execution_count": 60,
   "id": "4b9e37bf",
   "metadata": {},
   "outputs": [
    {
     "data": {
      "text/plain": [
       "DAY_OF_MONTH         0\n",
       "DAY_OF_WEEK          0\n",
       "OP_CARRIER           0\n",
       "TAIL_NUM             0\n",
       "OP_CARRIER_FL_NUM    0\n",
       "ORIGIN_AIRPORT_ID    0\n",
       "DEST_AIRPORT_ID      0\n",
       "DEP_DEL15            0\n",
       "ARR_DEL15            0\n",
       "CANCELLED            0\n",
       "DIVERTED             0\n",
       "DISTANCE             0\n",
       "salida_date          0\n",
       "llegada_date         0\n",
       "year                 0\n",
       "dtype: int64"
      ]
     },
     "execution_count": 60,
     "metadata": {},
     "output_type": "execute_result"
    }
   ],
   "source": [
    "df_2020.isna().sum()"
   ]
  },
  {
   "cell_type": "markdown",
   "id": "00ef3d5a",
   "metadata": {},
   "source": [
    "# Tablon analitico\n",
    "Apilamos los datos de dataframe 2019 y 2020. \n",
    "\n",
    "Luego hacemos agregamos cruzamos el dataset resultante por el dataset del aeropuerto por el campo del id del aeropuerto.   "
   ]
  },
  {
   "cell_type": "code",
   "execution_count": 75,
   "id": "11474ad7",
   "metadata": {},
   "outputs": [],
   "source": [
    "# Apilamos los datos del 2019 y 2020\n",
    "df = pd.concat([df_2019,df_2020], axis = 'index').reset_index()\n"
   ]
  },
  {
   "cell_type": "code",
   "execution_count": 76,
   "id": "109c8473",
   "metadata": {},
   "outputs": [],
   "source": [
    "# Reordenamos las variables\n",
    "var = ['salida_date', 'llegada_date','year','DAY_OF_MONTH', 'DAY_OF_WEEK',\n",
    " 'ORIGIN_AIRPORT_ID', 'DEST_AIRPORT_ID','OP_CARRIER_FL_NUM','TAIL_NUM',\n",
    " 'OP_CARRIER', 'DEP_DEL15', 'ARR_DEL15', 'CANCELLED', 'DIVERTED', 'DISTANCE']\n",
    "\n",
    "df = df[var]"
   ]
  },
  {
   "cell_type": "code",
   "execution_count": 77,
   "id": "cb2dd05c",
   "metadata": {},
   "outputs": [
    {
     "name": "stdout",
     "output_type": "stream",
     "text": [
      "2019: (581442, 15)\n",
      "2020: (606648, 15)\n",
      "df: (1188090, 15)\n"
     ]
    }
   ],
   "source": [
    "print(\"2019:\", df_2019.shape)\n",
    "print(\"2020:\", df_2020.shape)\n",
    "print(\"df:\", df.shape)"
   ]
  },
  {
   "cell_type": "code",
   "execution_count": 78,
   "id": "c186e2be",
   "metadata": {},
   "outputs": [
    {
     "data": {
      "text/plain": [
       "salida_date          0\n",
       "llegada_date         0\n",
       "year                 0\n",
       "DAY_OF_MONTH         0\n",
       "DAY_OF_WEEK          0\n",
       "ORIGIN_AIRPORT_ID    0\n",
       "DEST_AIRPORT_ID      0\n",
       "OP_CARRIER_FL_NUM    0\n",
       "TAIL_NUM             0\n",
       "OP_CARRIER           0\n",
       "DEP_DEL15            0\n",
       "ARR_DEL15            0\n",
       "CANCELLED            0\n",
       "DIVERTED             0\n",
       "DISTANCE             0\n",
       "dtype: int64"
      ]
     },
     "execution_count": 78,
     "metadata": {},
     "output_type": "execute_result"
    }
   ],
   "source": [
    "#Todo bien\n",
    "df.isna().sum()"
   ]
  },
  {
   "cell_type": "markdown",
   "id": "7af3e271",
   "metadata": {},
   "source": [
    "## Datos componentes temporales"
   ]
  },
  {
   "cell_type": "code",
   "execution_count": 65,
   "id": "a6de44d7",
   "metadata": {},
   "outputs": [],
   "source": [
    "def extraccion_temporal(temp,var):\n",
    "    fecha = temp[var].dt.date\n",
    "    dia = temp[var].dt.day\n",
    "    hora = temp[var].dt.hour\n",
    "    diasemana = temp[var].dt.dayofweek\n",
    "\n",
    "    temp2 = pd.concat([fecha, dia, hora, diasemana],axis='columns')\n",
    "    variables = ['fecha','dia','hora','diasemana']\n",
    "    temp2.columns = [name+\"_\"+var for name in variables]\n",
    "    return temp2\n"
   ]
  },
  {
   "cell_type": "code",
   "execution_count": 79,
   "id": "dc4d19c6",
   "metadata": {},
   "outputs": [],
   "source": [
    "\n",
    "df_salida = extraccion_temporal(df,'salida_date')\n",
    "df_llegada = extraccion_temporal(df,'llegada_date')"
   ]
  },
  {
   "cell_type": "code",
   "execution_count": 80,
   "id": "46d93c15",
   "metadata": {},
   "outputs": [
    {
     "data": {
      "text/plain": [
       "0           81\n",
       "1          154\n",
       "2           74\n",
       "3           64\n",
       "4           53\n",
       "          ... \n",
       "1188085     86\n",
       "1188086    106\n",
       "1188087    118\n",
       "1188088     57\n",
       "1188089    167\n",
       "Length: 1188090, dtype: int64"
      ]
     },
     "execution_count": 80,
     "metadata": {},
     "output_type": "execute_result"
    }
   ],
   "source": [
    "duracion_vuelo = (df['llegada_date']-df['salida_date']).dt.components.reset_index()\n",
    "\n",
    "duracion_minutos = duracion_vuelo.apply(lambda x: x['hours']*60+x['minutes'],axis=1)\n",
    "duracion_minutos"
   ]
  },
  {
   "cell_type": "code",
   "execution_count": 117,
   "id": "97152808",
   "metadata": {},
   "outputs": [
    {
     "data": {
      "text/plain": [
       "<AxesSubplot:>"
      ]
     },
     "execution_count": 117,
     "metadata": {},
     "output_type": "execute_result"
    },
    {
     "data": {
      "image/png": "[encoded data removed]",
      "text/plain": [
       "<Figure size 432x288 with 1 Axes>"
      ]
     },
     "metadata": {
      "needs_background": "light"
     },
     "output_type": "display_data"
    }
   ],
   "source": [
    "\n",
    "duracion_minutos.hist()"
   ]
  },
  {
   "cell_type": "markdown",
   "id": "b113b5e1",
   "metadata": {},
   "source": [
    "Que es eso"
   ]
  },
  {
   "cell_type": "code",
   "execution_count": 92,
   "id": "89fd10a9",
   "metadata": {},
   "outputs": [],
   "source": [
    "ii = duracion_minutos[duracion_minutos>1350].index.values\n",
    "# np.count(ii)"
   ]
  },
  {
   "cell_type": "code",
   "execution_count": 93,
   "id": "2e63733c",
   "metadata": {},
   "outputs": [
    {
     "data": {
      "text/html": [
       "<div>\n",
       "<style scoped>\n",
       "    .dataframe tbody tr th:only-of-type {\n",
       "        vertical-align: middle;\n",
       "    }\n",
       "\n",
       "    .dataframe tbody tr th {\n",
       "        vertical-align: top;\n",
       "    }\n",
       "\n",
       "    .dataframe thead th {\n",
       "        text-align: right;\n",
       "    }\n",
       "</style>\n",
       "<table border=\"1\" class=\"dataframe\">\n",
       "  <thead>\n",
       "    <tr style=\"text-align: right;\">\n",
       "      <th></th>\n",
       "      <th>salida_date</th>\n",
       "      <th>llegada_date</th>\n",
       "      <th>year</th>\n",
       "      <th>DAY_OF_MONTH</th>\n",
       "      <th>DAY_OF_WEEK</th>\n",
       "      <th>ORIGIN_AIRPORT_ID</th>\n",
       "      <th>DEST_AIRPORT_ID</th>\n",
       "      <th>OP_CARRIER_FL_NUM</th>\n",
       "      <th>TAIL_NUM</th>\n",
       "      <th>OP_CARRIER</th>\n",
       "      <th>DEP_DEL15</th>\n",
       "      <th>ARR_DEL15</th>\n",
       "      <th>CANCELLED</th>\n",
       "      <th>DIVERTED</th>\n",
       "      <th>DISTANCE</th>\n",
       "    </tr>\n",
       "  </thead>\n",
       "  <tbody>\n",
       "    <tr>\n",
       "      <th>33</th>\n",
       "      <td>2019-01-01 19:57:00</td>\n",
       "      <td>2019-01-02 19:50:00</td>\n",
       "      <td>2019</td>\n",
       "      <td>1</td>\n",
       "      <td>2</td>\n",
       "      <td>10397</td>\n",
       "      <td>13277</td>\n",
       "      <td>3308</td>\n",
       "      <td>N8908D</td>\n",
       "      <td>9E</td>\n",
       "      <td>0.0</td>\n",
       "      <td>0.0</td>\n",
       "      <td>0.0</td>\n",
       "      <td>0.0</td>\n",
       "      <td>147.0</td>\n",
       "    </tr>\n",
       "    <tr>\n",
       "      <th>65</th>\n",
       "      <td>2019-01-01 10:21:00</td>\n",
       "      <td>2019-01-02 10:14:00</td>\n",
       "      <td>2019</td>\n",
       "      <td>1</td>\n",
       "      <td>2</td>\n",
       "      <td>10397</td>\n",
       "      <td>13277</td>\n",
       "      <td>3338</td>\n",
       "      <td>N820AY</td>\n",
       "      <td>9E</td>\n",
       "      <td>0.0</td>\n",
       "      <td>0.0</td>\n",
       "      <td>0.0</td>\n",
       "      <td>0.0</td>\n",
       "      <td>147.0</td>\n",
       "    </tr>\n",
       "    <tr>\n",
       "      <th>117</th>\n",
       "      <td>2019-01-01 10:24:00</td>\n",
       "      <td>2019-01-02 10:15:00</td>\n",
       "      <td>2019</td>\n",
       "      <td>1</td>\n",
       "      <td>2</td>\n",
       "      <td>10397</td>\n",
       "      <td>12217</td>\n",
       "      <td>3384</td>\n",
       "      <td>N912XJ</td>\n",
       "      <td>9E</td>\n",
       "      <td>0.0</td>\n",
       "      <td>0.0</td>\n",
       "      <td>0.0</td>\n",
       "      <td>0.0</td>\n",
       "      <td>151.0</td>\n",
       "    </tr>\n",
       "    <tr>\n",
       "      <th>213</th>\n",
       "      <td>2019-01-01 14:38:00</td>\n",
       "      <td>2019-01-02 14:25:00</td>\n",
       "      <td>2019</td>\n",
       "      <td>1</td>\n",
       "      <td>2</td>\n",
       "      <td>10397</td>\n",
       "      <td>12217</td>\n",
       "      <td>5434</td>\n",
       "      <td>N607LR</td>\n",
       "      <td>9E</td>\n",
       "      <td>1.0</td>\n",
       "      <td>0.0</td>\n",
       "      <td>0.0</td>\n",
       "      <td>0.0</td>\n",
       "      <td>151.0</td>\n",
       "    </tr>\n",
       "    <tr>\n",
       "      <th>3230</th>\n",
       "      <td>2019-01-01 19:13:00</td>\n",
       "      <td>2019-01-02 19:10:00</td>\n",
       "      <td>2019</td>\n",
       "      <td>1</td>\n",
       "      <td>2</td>\n",
       "      <td>14107</td>\n",
       "      <td>14262</td>\n",
       "      <td>3055</td>\n",
       "      <td>N746SK</td>\n",
       "      <td>OO</td>\n",
       "      <td>1.0</td>\n",
       "      <td>1.0</td>\n",
       "      <td>0.0</td>\n",
       "      <td>0.0</td>\n",
       "      <td>261.0</td>\n",
       "    </tr>\n",
       "    <tr>\n",
       "      <th>...</th>\n",
       "      <td>...</td>\n",
       "      <td>...</td>\n",
       "      <td>...</td>\n",
       "      <td>...</td>\n",
       "      <td>...</td>\n",
       "      <td>...</td>\n",
       "      <td>...</td>\n",
       "      <td>...</td>\n",
       "      <td>...</td>\n",
       "      <td>...</td>\n",
       "      <td>...</td>\n",
       "      <td>...</td>\n",
       "      <td>...</td>\n",
       "      <td>...</td>\n",
       "      <td>...</td>\n",
       "    </tr>\n",
       "    <tr>\n",
       "      <th>1187283</th>\n",
       "      <td>2020-01-31 14:13:00</td>\n",
       "      <td>2020-02-01 14:08:00</td>\n",
       "      <td>2020</td>\n",
       "      <td>31</td>\n",
       "      <td>5</td>\n",
       "      <td>10397</td>\n",
       "      <td>11481</td>\n",
       "      <td>2506</td>\n",
       "      <td>N959AT</td>\n",
       "      <td>DL</td>\n",
       "      <td>0.0</td>\n",
       "      <td>0.0</td>\n",
       "      <td>0.0</td>\n",
       "      <td>0.0</td>\n",
       "      <td>240.0</td>\n",
       "    </tr>\n",
       "    <tr>\n",
       "      <th>1187298</th>\n",
       "      <td>2020-01-31 18:23:00</td>\n",
       "      <td>2020-02-01 18:15:00</td>\n",
       "      <td>2020</td>\n",
       "      <td>31</td>\n",
       "      <td>5</td>\n",
       "      <td>10397</td>\n",
       "      <td>12217</td>\n",
       "      <td>2521</td>\n",
       "      <td>N895AT</td>\n",
       "      <td>DL</td>\n",
       "      <td>0.0</td>\n",
       "      <td>0.0</td>\n",
       "      <td>0.0</td>\n",
       "      <td>0.0</td>\n",
       "      <td>151.0</td>\n",
       "    </tr>\n",
       "    <tr>\n",
       "      <th>1187873</th>\n",
       "      <td>2020-01-31 22:50:00</td>\n",
       "      <td>2020-02-01 22:40:00</td>\n",
       "      <td>2020</td>\n",
       "      <td>31</td>\n",
       "      <td>5</td>\n",
       "      <td>10397</td>\n",
       "      <td>10599</td>\n",
       "      <td>3122</td>\n",
       "      <td>N912DE</td>\n",
       "      <td>DL</td>\n",
       "      <td>0.0</td>\n",
       "      <td>0.0</td>\n",
       "      <td>0.0</td>\n",
       "      <td>0.0</td>\n",
       "      <td>134.0</td>\n",
       "    </tr>\n",
       "    <tr>\n",
       "      <th>1188012</th>\n",
       "      <td>2020-01-31 09:57:00</td>\n",
       "      <td>2020-02-01 09:47:00</td>\n",
       "      <td>2020</td>\n",
       "      <td>31</td>\n",
       "      <td>5</td>\n",
       "      <td>10397</td>\n",
       "      <td>12217</td>\n",
       "      <td>4759</td>\n",
       "      <td>N335PQ</td>\n",
       "      <td>9E</td>\n",
       "      <td>0.0</td>\n",
       "      <td>0.0</td>\n",
       "      <td>0.0</td>\n",
       "      <td>0.0</td>\n",
       "      <td>151.0</td>\n",
       "    </tr>\n",
       "    <tr>\n",
       "      <th>1188076</th>\n",
       "      <td>2020-01-31 08:53:00</td>\n",
       "      <td>2020-02-01 08:52:00</td>\n",
       "      <td>2020</td>\n",
       "      <td>31</td>\n",
       "      <td>5</td>\n",
       "      <td>10397</td>\n",
       "      <td>12217</td>\n",
       "      <td>4803</td>\n",
       "      <td>N605LR</td>\n",
       "      <td>9E</td>\n",
       "      <td>0.0</td>\n",
       "      <td>0.0</td>\n",
       "      <td>0.0</td>\n",
       "      <td>0.0</td>\n",
       "      <td>151.0</td>\n",
       "    </tr>\n",
       "  </tbody>\n",
       "</table>\n",
       "<p>3441 rows × 15 columns</p>\n",
       "</div>"
      ],
      "text/plain": [
       "                salida_date        llegada_date  year  DAY_OF_MONTH  \\\n",
       "33      2019-01-01 19:57:00 2019-01-02 19:50:00  2019             1   \n",
       "65      2019-01-01 10:21:00 2019-01-02 10:14:00  2019             1   \n",
       "117     2019-01-01 10:24:00 2019-01-02 10:15:00  2019             1   \n",
       "213     2019-01-01 14:38:00 2019-01-02 14:25:00  2019             1   \n",
       "3230    2019-01-01 19:13:00 2019-01-02 19:10:00  2019             1   \n",
       "...                     ...                 ...   ...           ...   \n",
       "1187283 2020-01-31 14:13:00 2020-02-01 14:08:00  2020            31   \n",
       "1187298 2020-01-31 18:23:00 2020-02-01 18:15:00  2020            31   \n",
       "1187873 2020-01-31 22:50:00 2020-02-01 22:40:00  2020            31   \n",
       "1188012 2020-01-31 09:57:00 2020-02-01 09:47:00  2020            31   \n",
       "1188076 2020-01-31 08:53:00 2020-02-01 08:52:00  2020            31   \n",
       "\n",
       "         DAY_OF_WEEK  ORIGIN_AIRPORT_ID  DEST_AIRPORT_ID  OP_CARRIER_FL_NUM  \\\n",
       "33                 2              10397            13277               3308   \n",
       "65                 2              10397            13277               3338   \n",
       "117                2              10397            12217               3384   \n",
       "213                2              10397            12217               5434   \n",
       "3230               2              14107            14262               3055   \n",
       "...              ...                ...              ...                ...   \n",
       "1187283            5              10397            11481               2506   \n",
       "1187298            5              10397            12217               2521   \n",
       "1187873            5              10397            10599               3122   \n",
       "1188012            5              10397            12217               4759   \n",
       "1188076            5              10397            12217               4803   \n",
       "\n",
       "        TAIL_NUM OP_CARRIER  DEP_DEL15  ARR_DEL15  CANCELLED  DIVERTED  \\\n",
       "33        N8908D         9E        0.0        0.0        0.0       0.0   \n",
       "65        N820AY         9E        0.0        0.0        0.0       0.0   \n",
       "117       N912XJ         9E        0.0        0.0        0.0       0.0   \n",
       "213       N607LR         9E        1.0        0.0        0.0       0.0   \n",
       "3230      N746SK         OO        1.0        1.0        0.0       0.0   \n",
       "...          ...        ...        ...        ...        ...       ...   \n",
       "1187283   N959AT         DL        0.0        0.0        0.0       0.0   \n",
       "1187298   N895AT         DL        0.0        0.0        0.0       0.0   \n",
       "1187873   N912DE         DL        0.0        0.0        0.0       0.0   \n",
       "1188012   N335PQ         9E        0.0        0.0        0.0       0.0   \n",
       "1188076   N605LR         9E        0.0        0.0        0.0       0.0   \n",
       "\n",
       "         DISTANCE  \n",
       "33          147.0  \n",
       "65          147.0  \n",
       "117         151.0  \n",
       "213         151.0  \n",
       "3230        261.0  \n",
       "...           ...  \n",
       "1187283     240.0  \n",
       "1187298     151.0  \n",
       "1187873     134.0  \n",
       "1188012     151.0  \n",
       "1188076     151.0  \n",
       "\n",
       "[3441 rows x 15 columns]"
      ]
     },
     "execution_count": 93,
     "metadata": {},
     "output_type": "execute_result"
    }
   ],
   "source": [
    "df.loc[ii]"
   ]
  },
  {
   "cell_type": "code",
   "execution_count": 97,
   "id": "4f74a988",
   "metadata": {},
   "outputs": [
    {
     "data": {
      "text/plain": [
       "fecha_salida_date         0\n",
       "dia_salida_date           0\n",
       "hora_salida_date          0\n",
       "diasemana_salida_date     0\n",
       "fecha_llegada_date        0\n",
       "dia_llegada_date          0\n",
       "hora_llegada_date         0\n",
       "diasemana_llegada_date    0\n",
       "duracion_minutos          0\n",
       "dtype: int64"
      ]
     },
     "execution_count": 97,
     "metadata": {},
     "output_type": "execute_result"
    }
   ],
   "source": [
    "df_t = pd.concat([df_salida,df_llegada,duracion_minutos], axis = 1)\n",
    "duracion_minutos.name = 'duracion_minutos'\n",
    "df_t.isna().sum()"
   ]
  },
  {
   "cell_type": "markdown",
   "id": "2e24b04b",
   "metadata": {},
   "source": [
    "## Datos espaciales aeropuerto"
   ]
  },
  {
   "cell_type": "code",
   "execution_count": 99,
   "id": "e041bc4a",
   "metadata": {},
   "outputs": [],
   "source": [
    "# añadimos variables del aeropuerto de salida\n",
    "airport_origin = airports.copy()\n",
    "var_org = [variable+\"_org\" for variable in airport_origin.columns.tolist() ]\n",
    "airport_origin.columns = var_org\n",
    "\n",
    "df = df.merge(airport_origin,how='left',left_on='ORIGIN_AIRPORT_ID', right_on='id_org')"
   ]
  },
  {
   "cell_type": "code",
   "execution_count": 100,
   "id": "a7672823",
   "metadata": {},
   "outputs": [
    {
     "data": {
      "text/plain": [
       "salida_date              0\n",
       "llegada_date             0\n",
       "year                     0\n",
       "DAY_OF_MONTH             0\n",
       "DAY_OF_WEEK              0\n",
       "ORIGIN_AIRPORT_ID        0\n",
       "DEST_AIRPORT_ID          0\n",
       "OP_CARRIER_FL_NUM        0\n",
       "TAIL_NUM                 0\n",
       "OP_CARRIER               0\n",
       "DEP_DEL15                0\n",
       "ARR_DEL15                0\n",
       "CANCELLED                0\n",
       "DIVERTED                 0\n",
       "DISTANCE                 0\n",
       "id_org                9913\n",
       "type_org              9913\n",
       "name_org              9913\n",
       "latitude_deg_org      9913\n",
       "longitude_deg_org     9913\n",
       "elevation_ft_org     15377\n",
       "iso_country_org       9913\n",
       "iso_region_org        9913\n",
       "dtype: int64"
      ]
     },
     "execution_count": 100,
     "metadata": {},
     "output_type": "execute_result"
    }
   ],
   "source": [
    "df.isna().sum()"
   ]
  },
  {
   "cell_type": "code",
   "execution_count": 101,
   "id": "90f94d73",
   "metadata": {},
   "outputs": [
    {
     "data": {
      "text/plain": [
       "salida_date             0\n",
       "llegada_date            0\n",
       "year                    0\n",
       "DAY_OF_MONTH            0\n",
       "DAY_OF_WEEK             0\n",
       "ORIGIN_AIRPORT_ID       0\n",
       "DEST_AIRPORT_ID         0\n",
       "OP_CARRIER_FL_NUM       0\n",
       "TAIL_NUM                0\n",
       "OP_CARRIER              0\n",
       "DEP_DEL15               0\n",
       "ARR_DEL15               0\n",
       "CANCELLED               0\n",
       "DIVERTED                0\n",
       "DISTANCE                0\n",
       "id_org                  0\n",
       "type_org                0\n",
       "name_org                0\n",
       "latitude_deg_org        0\n",
       "longitude_deg_org       0\n",
       "elevation_ft_org     5464\n",
       "iso_country_org         0\n",
       "iso_region_org          0\n",
       "dtype: int64"
      ]
     },
     "execution_count": 101,
     "metadata": {},
     "output_type": "execute_result"
    }
   ],
   "source": [
    "df = df[df.ORIGIN_AIRPORT_ID  !=12191]\n",
    "df.isna().sum()"
   ]
  },
  {
   "cell_type": "code",
   "execution_count": 102,
   "id": "229bb380",
   "metadata": {},
   "outputs": [
    {
     "data": {
      "text/plain": [
       "array(['Shell Morgan City Heliport',\n",
       "       'Southern Natural Gas Co. Seaplane Base'], dtype=object)"
      ]
     },
     "execution_count": 102,
     "metadata": {},
     "output_type": "execute_result"
    }
   ],
   "source": [
    "df.loc[df['elevation_ft_org'].isna(),:].name_org.unique()"
   ]
  },
  {
   "cell_type": "markdown",
   "id": "5bebc011",
   "metadata": {},
   "source": [
    "Los dos aeropuertos que faltan estan en USA y cerca del mar  \n",
    "- Shell Morgan City Heliport -> 0  \n",
    "- Southern Natural Gas Co. Seaplane Base -> 0"
   ]
  },
  {
   "cell_type": "code",
   "execution_count": 103,
   "id": "b8d91b84",
   "metadata": {},
   "outputs": [],
   "source": [
    "n = df.shape[0]\n",
    "df.loc[:n,'elevation_ft_org'] = df['elevation_ft_org'].fillna(0)\n",
    "df.loc[:n,'iso_country_org'] = df['iso_country_org'].fillna('US')"
   ]
  },
  {
   "cell_type": "code",
   "execution_count": 104,
   "id": "4456eea1",
   "metadata": {},
   "outputs": [
    {
     "data": {
      "text/plain": [
       "salida_date           0\n",
       "llegada_date          0\n",
       "year                  0\n",
       "DAY_OF_MONTH          0\n",
       "DAY_OF_WEEK           0\n",
       "ORIGIN_AIRPORT_ID     0\n",
       "DEST_AIRPORT_ID       0\n",
       "OP_CARRIER_FL_NUM     0\n",
       "TAIL_NUM              0\n",
       "OP_CARRIER            0\n",
       "DEP_DEL15             0\n",
       "ARR_DEL15             0\n",
       "CANCELLED             0\n",
       "DIVERTED              0\n",
       "DISTANCE              0\n",
       "id_org                0\n",
       "type_org              0\n",
       "name_org              0\n",
       "latitude_deg_org      0\n",
       "longitude_deg_org     0\n",
       "elevation_ft_org     48\n",
       "iso_country_org       0\n",
       "iso_region_org        0\n",
       "dtype: int64"
      ]
     },
     "execution_count": 104,
     "metadata": {},
     "output_type": "execute_result"
    }
   ],
   "source": [
    "df.isna().sum()"
   ]
  },
  {
   "cell_type": "code",
   "execution_count": 105,
   "id": "bf67054d",
   "metadata": {},
   "outputs": [],
   "source": [
    "# añadimos variables del aeropuerto de llegada\n",
    "airport_llegada = airports.copy()\n",
    "var_lleg = [variable+\"_lleg\" for variable in airport_llegada.columns.tolist() ]\n",
    "airport_llegada.columns = var_lleg\n",
    "\n",
    "df = df.merge(airport_llegada,how='left',left_on='DEST_AIRPORT_ID', right_on='id_lleg')"
   ]
  },
  {
   "cell_type": "code",
   "execution_count": 106,
   "id": "2325ddc1",
   "metadata": {},
   "outputs": [
    {
     "data": {
      "text/plain": [
       "salida_date               0\n",
       "llegada_date              0\n",
       "year                      0\n",
       "DAY_OF_MONTH              0\n",
       "DAY_OF_WEEK               0\n",
       "ORIGIN_AIRPORT_ID         0\n",
       "DEST_AIRPORT_ID           0\n",
       "OP_CARRIER_FL_NUM         0\n",
       "TAIL_NUM                  0\n",
       "OP_CARRIER                0\n",
       "DEP_DEL15                 0\n",
       "ARR_DEL15                 0\n",
       "CANCELLED                 0\n",
       "DIVERTED                  0\n",
       "DISTANCE                  0\n",
       "id_org                    0\n",
       "type_org                  0\n",
       "name_org                  0\n",
       "latitude_deg_org          0\n",
       "longitude_deg_org         0\n",
       "elevation_ft_org         48\n",
       "iso_country_org           0\n",
       "iso_region_org            0\n",
       "id_lleg                9889\n",
       "type_lleg              9889\n",
       "name_lleg              9889\n",
       "latitude_deg_lleg      9889\n",
       "longitude_deg_lleg     9889\n",
       "elevation_ft_lleg     15286\n",
       "iso_country_lleg       9889\n",
       "iso_region_lleg        9889\n",
       "dtype: int64"
      ]
     },
     "execution_count": 106,
     "metadata": {},
     "output_type": "execute_result"
    }
   ],
   "source": [
    "df.isna().sum()"
   ]
  },
  {
   "cell_type": "code",
   "execution_count": 107,
   "id": "cc3de473",
   "metadata": {},
   "outputs": [],
   "source": [
    "def nulos(df):\n",
    "    return df.isna().sum()[df.isna().sum().values>0]"
   ]
  },
  {
   "cell_type": "code",
   "execution_count": 108,
   "id": "c9e4c608",
   "metadata": {},
   "outputs": [
    {
     "data": {
      "text/plain": [
       "elevation_ft_org       47\n",
       "elevation_ft_lleg    5397\n",
       "dtype: int64"
      ]
     },
     "execution_count": 108,
     "metadata": {},
     "output_type": "execute_result"
    }
   ],
   "source": [
    "# sigue habiendo nulos\n",
    "df = df[df['DEST_AIRPORT_ID' ]!=12191]\n",
    "nulos(df)"
   ]
  },
  {
   "cell_type": "code",
   "execution_count": 109,
   "id": "bd9094fb",
   "metadata": {},
   "outputs": [
    {
     "data": {
      "text/plain": [
       "array(['Shell Morgan City Heliport',\n",
       "       'Southern Natural Gas Co. Seaplane Base'], dtype=object)"
      ]
     },
     "execution_count": 109,
     "metadata": {},
     "output_type": "execute_result"
    }
   ],
   "source": [
    "# son los mismos que antes\n",
    "df[df['elevation_ft_lleg' ].isna()].name_lleg.unique()"
   ]
  },
  {
   "cell_type": "code",
   "execution_count": 110,
   "id": "510e3b35",
   "metadata": {},
   "outputs": [],
   "source": [
    "n = df.shape[0]\n",
    "df.loc[:n,'elevation_ft_lleg'] = df['elevation_ft_lleg'].fillna(0)\n",
    "df.loc[:n,'iso_country_lleg'] = df['iso_country_lleg'].fillna('US')"
   ]
  },
  {
   "cell_type": "code",
   "execution_count": 112,
   "id": "4db51714",
   "metadata": {},
   "outputs": [],
   "source": [
    "df.drop(columns=['id_org','id_lleg'],inplace=True)"
   ]
  },
  {
   "cell_type": "code",
   "execution_count": 119,
   "id": "4399e1ab",
   "metadata": {},
   "outputs": [],
   "source": [
    "from janitor import clean_names\n",
    "df =clean_names(df)"
   ]
  },
  {
   "cell_type": "markdown",
   "id": "5830a4aa",
   "metadata": {},
   "source": [
    "## Datos componentes temporales"
   ]
  },
  {
   "cell_type": "code",
   "execution_count": 142,
   "id": "a27e569a",
   "metadata": {
    "scrolled": false
   },
   "outputs": [],
   "source": [
    "# Calculo componentes temporales de datimes\n",
    "def extraccion_temporal(temp,var):\n",
    "    fecha = temp[var].dt.date\n",
    "    dia = temp[var].dt.day\n",
    "    hora = temp[var].dt.hour\n",
    "    diasemana = temp[var].dt.dayofweek\n",
    "\n",
    "    temp2 = pd.concat([fecha, dia, hora, diasemana],axis='columns')\n",
    "    variables = ['fecha','dia','hora','diasemana']\n",
    "    temp2.columns = [name+\"_\"+var for name in variables]\n",
    "    return temp2\n",
    "\n",
    "\n",
    "df_salida = extraccion_temporal(df,'salida_date')\n",
    "df_llegada = extraccion_temporal(df,'llegada_date')\n",
    "\n"
   ]
  },
  {
   "cell_type": "code",
   "execution_count": 144,
   "id": "ce762e11",
   "metadata": {},
   "outputs": [
    {
     "name": "stdout",
     "output_type": "stream",
     "text": [
      "(1168288, 4)\n",
      "(1168288, 4)\n",
      "(1168288, 29)\n"
     ]
    }
   ],
   "source": [
    "print(df_salida.shape)\n",
    "print(df_llegada.shape)\n",
    "print(df.shape)"
   ]
  },
  {
   "cell_type": "code",
   "execution_count": 145,
   "id": "e15cebc8",
   "metadata": {},
   "outputs": [],
   "source": [
    "# Calculo duracion en minutos del vuelo\n",
    "duracion = (df['llegada_date']-df['salida_date']).dt.components.reset_index()\n",
    "\n",
    "df['duracion_minutos'] = duracion.apply(lambda x: x['days']*24*60+x['hours']*60+x['minutes'],axis=1)"
   ]
  },
  {
   "cell_type": "code",
   "execution_count": 146,
   "id": "e6aff3fb",
   "metadata": {},
   "outputs": [
    {
     "data": {
      "text/plain": [
       "(1168288, 30)"
      ]
     },
     "execution_count": 146,
     "metadata": {},
     "output_type": "execute_result"
    }
   ],
   "source": [
    "df.shape"
   ]
  },
  {
   "cell_type": "code",
   "execution_count": 147,
   "id": "e5436c4e",
   "metadata": {},
   "outputs": [
    {
     "name": "stdout",
     "output_type": "stream",
     "text": [
      "count    1.158539e+06\n",
      "mean     1.409970e+02\n",
      "std      1.173832e+02\n",
      "min      0.000000e+00\n",
      "25%      7.800000e+01\n",
      "50%      1.140000e+02\n",
      "75%      1.700000e+02\n",
      "max      1.439000e+03\n",
      "Name: duracion_minutos, dtype: float64\n"
     ]
    },
    {
     "data": {
      "image/png": "[encoded data removed]",
      "text/plain": [
       "<Figure size 432x288 with 1 Axes>"
      ]
     },
     "metadata": {
      "needs_background": "light"
     },
     "output_type": "display_data"
    }
   ],
   "source": [
    "#calidad de datos de duracion minutos\n",
    "print(df['duracion_minutos'].describe() )\n",
    "df['duracion_minutos'].hist()\n",
    "plt.show()\n"
   ]
  },
  {
   "cell_type": "markdown",
   "id": "27fa9da1",
   "metadata": {},
   "source": [
    "hay datos vuelos que duran casi 24h, me parece un poco raro. "
   ]
  },
  {
   "cell_type": "code",
   "execution_count": 149,
   "id": "8eb2bf66",
   "metadata": {},
   "outputs": [
    {
     "name": "stdout",
     "output_type": "stream",
     "text": [
      "(1168288, 4)\n",
      "(1168288, 4)\n",
      "(1168288, 30)\n"
     ]
    }
   ],
   "source": [
    "print(df_salida.shape )\n",
    "print(df_llegada.shape )\n",
    "print(df.shape)"
   ]
  },
  {
   "cell_type": "code",
   "execution_count": 155,
   "id": "94716270",
   "metadata": {},
   "outputs": [
    {
     "data": {
      "text/plain": [
       "(1168288, 38)"
      ]
     },
     "execution_count": 155,
     "metadata": {},
     "output_type": "execute_result"
    }
   ],
   "source": [
    "df = pd.concat([df,df_salida,df_llegada], axis = 1)\n",
    "df.shape"
   ]
  },
  {
   "cell_type": "markdown",
   "id": "abbe68a6",
   "metadata": {},
   "source": [
    "## Guardar dataset"
   ]
  },
  {
   "cell_type": "markdown",
   "id": "17824082",
   "metadata": {},
   "source": [
    "guardamos el dataset"
   ]
  },
  {
   "cell_type": "code",
   "execution_count": 156,
   "id": "dccbf05e",
   "metadata": {},
   "outputs": [],
   "source": [
    "#Exportamos los datos\n",
    "df.to_pickle('../Datos/df.pickle')"
   ]
  },
  {
   "cell_type": "code",
   "execution_count": null,
   "id": "0cde448c",
   "metadata": {},
   "outputs": [],
   "source": []
  }
 ],
 "metadata": {
  "kernelspec": {
   "display_name": "Python 3 (ipykernel)",
   "language": "python",
   "name": "python3"
  },
  "language_info": {
   "codemirror_mode": {
    "name": "ipython",
    "version": 3
   },
   "file_extension": ".py",
   "mimetype": "text/x-python",
   "name": "python",
   "nbconvert_exporter": "python",
   "pygments_lexer": "ipython3",
   "version": "3.9.7"
  },
  "toc": {
   "base_numbering": 1,
   "nav_menu": {},
   "number_sections": true,
   "sideBar": true,
   "skip_h1_title": false,
   "title_cell": "Table of Contents",
   "title_sidebar": "Contents",
   "toc_cell": true,
   "toc_position": {
    "height": "calc(100% - 180px)",
    "left": "10px",
    "top": "150px",
    "width": "307.2px"
   },
   "toc_section_display": true,
   "toc_window_display": true
  },
  "varInspector": {
   "cols": {
    "lenName": 16,
    "lenType": 16,
    "lenVar": 40
   },
   "kernels_config": {
    "python": {
     "delete_cmd_postfix": "",
     "delete_cmd_prefix": "del ",
     "library": "var_list.py",
     "varRefreshCmd": "print(var_dic_list())"
    },
    "r": {
     "delete_cmd_postfix": ") ",
     "delete_cmd_prefix": "rm(",
     "library": "var_list.r",
     "varRefreshCmd": "cat(var_dic_list()) "
    }
   },
   "types_to_exclude": [
    "module",
    "function",
    "builtin_function_or_method",
    "instance",
    "_Feature"
   ],
   "window_display": false
  }
 },
 "nbformat": 4,
 "nbformat_minor": 5
}
